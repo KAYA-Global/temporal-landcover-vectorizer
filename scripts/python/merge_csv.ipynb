{
 "cells": [
  {
   "cell_type": "markdown",
   "id": "c6e2cfbe",
   "metadata": {},
   "source": [
    "# **Merge NDVI CSVs for Each Area**\n",
    "This notebook merges NDVI CSV files for different areas and years into a single file per area.\n",
    "\n",
    "🔹 **Google Drive Mounting**\n",
    "🔹 **CSV File Merging**\n",
    "🔹 **Saving the Results**\n",
    "\n",
    "✅ **Run the cells below to execute the process!**"
   ]
  },
  {
   "cell_type": "code",
   "execution_count": null,
   "id": "017ba41b",
   "metadata": {},
   "outputs": [],
   "source": [
    "from google.colab import drive\n",
    "drive.mount('/content/drive')"
   ]
  },
  {
   "cell_type": "code",
   "execution_count": null,
   "id": "677d28d6",
   "metadata": {},
   "outputs": [],
   "source": [
    "# Import necessary libraries\n",
    "import os\n",
    "import glob\n",
    "import pandas as pd"
   ]
  },
  {
   "cell_type": "code",
   "execution_count": null,
   "id": "31ad6917",
   "metadata": {},
   "outputs": [],
   "source": [
    "# Set the folder containing the CSV files\n",
    "folder_path = '/content/drive/MyDrive/earthengine/csv'"
   ]
  },
  {
   "cell_type": "code",
   "execution_count": null,
   "id": "1de257f3",
   "metadata": {},
   "outputs": [],
   "source": [
    "# Get all CSV files\n",
    "csv_files = glob.glob(os.path.join(folder_path, '*.csv'))\n",
    "print(f'Found {len(csv_files)} CSV files.')"
   ]
  },
  {
   "cell_type": "code",
   "execution_count": null,
   "id": "f7692896",
   "metadata": {},
   "outputs": [],
   "source": [
    "# Dictionary to store dataframes by area\n",
    "area_data = {}"
   ]
  },
  {
   "cell_type": "code",
   "execution_count": null,
   "id": "2da1d964",
   "metadata": {},
   "outputs": [],
   "source": [
    "# Process files\n",
    "for file in csv_files:\n",
    "    filename = os.path.basename(file)\n",
    "    parts = filename.split('_')\n",
    "    if len(parts) < 5:\n",
    "        continue  # Skip files that don't match expected pattern\n",
    "    \n",
    "    year = parts[2]  # Extract year\n",
    "    area = parts[4]  # Extract area number\n",
    "    \n",
    "    df = pd.read_csv(file)\n",
    "    df = df.rename(columns={'y2013': f'y{year}'})  # Rename year column\n",
    "    \n",
    "    if area not in area_data:\n",
    "        area_data[area] = df[['pixel_id', 'x_coord', 'y_coord', f'y{year}']]\n",
    "    else:\n",
    "        area_data[area] = area_data[area].merge(df[['pixel_id', f'y{year}']], on='pixel_id', how='outer')"
   ]
  },
  {
   "cell_type": "code",
   "execution_count": null,
   "id": "cfc5ada3",
   "metadata": {},
   "outputs": [],
   "source": [
    "# Save merged data\n",
    "output_folder = os.path.join(folder_path, 'merged')\n",
    "os.makedirs(output_folder, exist_ok=True)\n",
    "\n",
    "for area, df in area_data.items():\n",
    "    output_file = os.path.join(output_folder, f'NDVI_Merged_Area_{area}.csv')\n",
    "    df.to_csv(output_file, index=False)\n",
    "    print(f'Saved: {output_file}')\n",
    "\n",
    "print(\"Merging complete!\")"
   ]
  }
 ],
 "metadata": {},
 "nbformat": 4,
 "nbformat_minor": 5
}
