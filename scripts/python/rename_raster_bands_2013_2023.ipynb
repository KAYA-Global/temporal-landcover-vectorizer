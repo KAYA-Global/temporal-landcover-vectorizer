{
  "cells": [
    {
      "cell_type": "markdown",
      "metadata": {
        "id": "view-in-github",
        "colab_type": "text"
      },
      "source": [
        "<a href=\"https://colab.research.google.com/github/ulfboge/gee-landcover-masking/blob/main/rename_raster_bands_2013_2023.ipynb\" target=\"_parent\"><img src=\"https://colab.research.google.com/assets/colab-badge.svg\" alt=\"Open In Colab\"/></a>"
      ]
    },
    {
      "cell_type": "markdown",
      "metadata": {
        "id": "YmQYjSVrmKwS"
      },
      "source": [
        "# Rename Raster Bands in Multiple GeoTIFF Files\n",
        "\n",
        "This notebook will help you rename the bands in multiple GeoTIFF files stored in your Google Drive.\n",
        "\n",
        "## Setup\n",
        "First, we need to mount Google Drive and install required packages."
      ]
    },
    {
      "cell_type": "code",
      "execution_count": 1,
      "metadata": {
        "colab": {
          "base_uri": "https://localhost:8080/"
        },
        "id": "SJ7JUviOmKwT",
        "outputId": "b862019a-f534-425c-bb28-b67a1bcea555"
      },
      "source": [
        "# Mount Google Drive\n",
        "from google.colab import drive\n",
        "drive.mount('/content/drive')"
      ],
      "outputs": [
        {
          "output_type": "stream",
          "name": "stdout",
          "text": [
            "Mounted at /content/drive\n"
          ]
        }
      ]
    },
    {
      "cell_type": "code",
      "execution_count": 2,
      "metadata": {
        "colab": {
          "base_uri": "https://localhost:8080/"
        },
        "id": "tSb4iSSmmKwT",
        "outputId": "2172623a-6724-4974-ec38-2136e5ca5a6a"
      },
      "source": [
        "# Install required package\n",
        "%%capture\n",
        "!pip install rasterio"
      ],
      "outputs": [
        {
          "output_type": "stream",
          "name": "stdout",
          "text": [
            "Collecting rasterio\n",
            "  Downloading rasterio-1.4.3-cp311-cp311-manylinux_2_17_x86_64.manylinux2014_x86_64.whl.metadata (9.1 kB)\n",
            "Collecting affine (from rasterio)\n",
            "  Downloading affine-2.4.0-py3-none-any.whl.metadata (4.0 kB)\n",
            "Requirement already satisfied: attrs in /usr/local/lib/python3.11/dist-packages (from rasterio) (25.1.0)\n",
            "Requirement already satisfied: certifi in /usr/local/lib/python3.11/dist-packages (from rasterio) (2025.1.31)\n",
            "Requirement already satisfied: click>=4.0 in /usr/local/lib/python3.11/dist-packages (from rasterio) (8.1.8)\n",
            "Collecting cligj>=0.5 (from rasterio)\n",
            "  Downloading cligj-0.7.2-py3-none-any.whl.metadata (5.0 kB)\n",
            "Requirement already satisfied: numpy>=1.24 in /usr/local/lib/python3.11/dist-packages (from rasterio) (1.26.4)\n",
            "Collecting click-plugins (from rasterio)\n",
            "  Downloading click_plugins-1.1.1-py2.py3-none-any.whl.metadata (6.4 kB)\n",
            "Requirement already satisfied: pyparsing in /usr/local/lib/python3.11/dist-packages (from rasterio) (3.2.1)\n",
            "Downloading rasterio-1.4.3-cp311-cp311-manylinux_2_17_x86_64.manylinux2014_x86_64.whl (22.2 MB)\n",
            "\u001b[2K   \u001b[90m━━━━━━━━━━━━━━━━━━━━━━━━━━━━━━━━━━━━━━━━\u001b[0m \u001b[32m22.2/22.2 MB\u001b[0m \u001b[31m29.8 MB/s\u001b[0m eta \u001b[36m0:00:00\u001b[0m\n",
            "\u001b[?25hDownloading cligj-0.7.2-py3-none-any.whl (7.1 kB)\n",
            "Downloading affine-2.4.0-py3-none-any.whl (15 kB)\n",
            "Downloading click_plugins-1.1.1-py2.py3-none-any.whl (7.5 kB)\n",
            "Installing collected packages: cligj, click-plugins, affine, rasterio\n",
            "Successfully installed affine-2.4.0 click-plugins-1.1.1 cligj-0.7.2 rasterio-1.4.3\n"
          ]
        }
      ]
    },
    {
      "cell_type": "markdown",
      "metadata": {
        "id": "SBEGt1O7mKwU"
      },
      "source": [
        "## Main Script\n",
        "The following code will:\n",
        "1. Find all .tif files in the specified directory\n",
        "2. Read each file and its metadata\n",
        "3. Rename the bands to: 2013, 2015, 2017, 2019, 2021, 2023\n",
        "4. Save the modified files in the same location"
      ]
    },
    {
      "cell_type": "code",
      "execution_count": 4,
      "metadata": {
        "colab": {
          "base_uri": "https://localhost:8080/"
        },
        "id": "sRznYCjBmKwU",
        "outputId": "f3adfa77-ede7-4735-c367-96a3bb243f04"
      },
      "source": [
        "import os\n",
        "import rasterio\n",
        "import numpy as np\n",
        "from pathlib import Path\n",
        "\n",
        "# Set the input directory path\n",
        "input_dir = \"/content/drive/MyDrive/NDFI_Combined\"\n",
        "\n",
        "# New band names\n",
        "new_band_names = ['2013', '2015', '2017', '2019', '2021', '2023']\n",
        "\n",
        "# Get all .tif files in the directory\n",
        "tif_files = list(Path(input_dir).glob('*.tif'))\n",
        "\n",
        "for tif_path in tif_files:\n",
        "    # Open the original file\n",
        "    with rasterio.open(tif_path) as src:\n",
        "        # Get the metadata\n",
        "        meta = src.meta.copy()\n",
        "\n",
        "        # Read all bands\n",
        "        data = src.read()\n",
        "\n",
        "        # Create the output path (same as input path since we want to save in the same location)\n",
        "        output_path = tif_path\n",
        "\n",
        "        # Create a new raster file with renamed bands\n",
        "        with rasterio.open(output_path, 'w', **meta) as dst:\n",
        "            # Write the data\n",
        "            dst.write(data)\n",
        "\n",
        "            # Update band descriptions\n",
        "            for i, band_name in enumerate(new_band_names, start=1):\n",
        "                dst.set_band_description(i, band_name)\n",
        "\n",
        "        print(f\"Processed: {tif_path.name}\")\n",
        "\n",
        "print(\"All files processed successfully!\")"
      ],
      "outputs": [
        {
          "output_type": "stream",
          "name": "stdout",
          "text": [
            "Processed: Combined_Area_5.tif\n",
            "Processed: Combined_Area_7.tif\n",
            "Processed: Combined_Area_6.tif\n",
            "Processed: Combined_Area_8.tif\n",
            "All files processed successfully!\n"
          ]
        }
      ]
    },
    {
      "cell_type": "markdown",
      "metadata": {
        "id": "jpumBWc2mKwU"
      },
      "source": [
        "## Notes\n",
        "- Make sure you have write permissions in the directory\n",
        "- The script will overwrite the existing files with the new band names\n",
        "- If you want to keep the original files, modify the `output_path` to save to a different location\n",
        "- For very large files, you might want to process them one band at a time instead of loading all bands into memory"
      ]
    }
  ],
  "metadata": {
    "kernelspec": {
      "display_name": "Python 3",
      "language": "python",
      "name": "python3"
    },
    "language_info": {
      "codemirror_mode": {
        "name": "ipython",
        "version": 3
      },
      "file_extension": ".py",
      "mimetype": "text/x-python",
      "name": "python",
      "nbconvert_exporter": "python",
      "pygments_lexer": "ipython3",
      "version": "3.8.0"
    },
    "colab": {
      "provenance": [],
      "include_colab_link": true
    }
  },
  "nbformat": 4,
  "nbformat_minor": 0
}