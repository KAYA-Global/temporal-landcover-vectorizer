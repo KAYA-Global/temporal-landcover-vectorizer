import os
import rasterio
import numpy as np
from pathlib import Path
from google.colab import drive
from osgeo import gdal

# Mount Google Drive
drive.mount('/content/drive')

# Install required packages
%%capture
!apt-get install -y gdal-bin python3-gdal python3-rasterio
!pip install gdal rasterio

# Set up directories
input_dir = "/content/drive/MyDrive/earthengine/ndvi"
intermediate_dir = "/content/drive/MyDrive/ndvi_combined"
os.makedirs(input_dir, exist_ok=True)
os.makedirs(intermediate_dir, exist_ok=True)

# Part 1: Combine Rasters
print("Step 1: Combining raster files...")

# Find and group raster files
raster_files = [f for f in os.listdir(input_dir) if f.endswith('.tif')]
area_files = {}
for raster in raster_files:
    try:
        parts = raster.split("_")
        year = parts[2]
        area_id = parts[-1].replace(".tif", "")
        if area_id not in area_files:
            area_files[area_id] = []
        area_files[area_id].append((year, raster))
    except IndexError:
        print(f"Warning: File {raster} does not match expected naming pattern")
        continue

# Process each area
for area_id, files in area_files.items():
    print(f"\nProcessing area {area_id}...")
    
    # Sort files by year
    files.sort(key=lambda x: x[0])
    
    # Get full file paths
    file_paths = [os.path.join(input_dir, f[1]) for f in files]
    
    # Open raster datasets
    datasets = [gdal.Open(fp) for fp in file_paths]
    
    if any(ds is None for ds in datasets):
        print(f"Error: Could not open one or more raster files for area {area_id}.")
        continue

    # Create combined raster
    cols = datasets[0].RasterXSize
    rows = datasets[0].RasterYSize
    output_file = os.path.join(intermediate_dir, f"Combined_Area_{area_id}.tif")
    driver = gdal.GetDriverByName('GTiff')
    out_ds = driver.Create(output_file, cols, rows, len(datasets), gdal.GDT_Float32)
    out_ds.SetProjection(datasets[0].GetProjection())
    out_ds.SetGeoTransform(datasets[0].GetGeoTransform())

    # Write each year's data
    for i, (year, _) in enumerate(files):
        out_band = out_ds.GetRasterBand(i + 1)
        data = datasets[i].GetRasterBand(1).ReadAsArray()
        out_band.WriteArray(data)
        out_band.SetNoDataValue(-9999)
        print(f"  Added year {year} to band {i + 1}")

    # Close datasets
    out_ds = None
    for ds in datasets:
        ds = None

print("\nStep 2: Renaming bands in combined files...")

# New band names
new_band_names = ['2013', '2015', '2017', '2019', '2021', '2023']

# Get all .tif files in the intermediate directory
tif_files = list(Path(intermediate_dir).glob('*.tif'))

for tif_path in tif_files:
    # Open the file and update band names
    with rasterio.open(tif_path) as src:
        meta = src.meta.copy()
        data = src.read()

        # Create a new raster file with renamed bands
        with rasterio.open(tif_path, 'w', **meta) as dst:
            dst.write(data)
            
            # Update band descriptions
            for i, band_name in enumerate(new_band_names, start=1):
                dst.set_band_description(i, band_name)

        print(f"Updated band names for: {tif_path.name}")

print("\nAll processing completed successfully!")
