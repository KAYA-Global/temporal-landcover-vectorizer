{
  "cells": [
    {
      "cell_type": "markdown",
      "metadata": {
        "id": "view-in-github",
        "colab_type": "text"
      },
      "source": [
        "<a href=\"https://colab.research.google.com/github/ulfboge/temporal-landcover-vectorizer/blob/main/scripts/python/raster_to_vector_with_csv.ipynb\" target=\"_parent\"><img src=\"https://colab.research.google.com/assets/colab-badge.svg\" alt=\"Open In Colab\"/></a>"
      ]
    },
    {
      "cell_type": "markdown",
      "metadata": {
        "id": "Gz68abshcn0_"
      },
      "source": [
        "# Raster to Vector Conversion Tool\n",
        "\n",
        "This notebook converts multi-band raster files into vector formats (points and polygons) and CSV files. It processes each pixel in the raster and creates corresponding geometries while preserving the band values.\n",
        "\n",
        "## Features:\n",
        "- Converts raster pixels to point and polygon shapefiles\n",
        "- Generates CSV files with pixel values (with and without coordinates)\n",
        "- Handles multi-band rasters (up to 6 bands)\n",
        "- Skips pixels where all bands are 0\n",
        "- Maintains spatial reference and coordinates\n",
        "\n",
        "## Setup\n",
        "First, let's mount Google Drive and install required packages."
      ]
    },
    {
      "cell_type": "code",
      "execution_count": null,
      "metadata": {
        "id": "ncEhk9_kcn1A"
      },
      "outputs": [],
      "source": [
        "from google.colab import drive\n",
        "drive.mount('/content/drive')"
      ]
    },
    {
      "cell_type": "code",
      "execution_count": null,
      "metadata": {
        "id": "dGJLKaKHcn1B"
      },
      "outputs": [],
      "source": [
        "# Install required packages\n",
        "%%capture\n",
        "!apt-get update\n",
        "!apt-get install -y gdal-bin python3-gdal\n",
        "!pip install pandas numpy==1.24.3 gdal==3.4.3"
      ]
    },
    {
      "cell_type": "markdown",
      "metadata": {
        "id": "ANOCZAcpcn1B"
      },
      "source": [
        "## Import Libraries and Set Up Directories"
      ]
    },
    {
      "cell_type": "code",
      "execution_count": null,
      "metadata": {
        "id": "b4aKw9SScn1B"
      },
      "outputs": [],
      "source": [
        "from osgeo import gdal, ogr, osr\n",
        "import os\n",
        "import pandas as pd\n",
        "import glob\n",
        "\n",
        "# Define Base Directories\n",
        "base_directory = \"/content/drive/MyDrive/earthengine/conversion\"\n",
        "\n",
        "# Subdirectories\n",
        "raster_folder = os.path.join(base_directory, \"raster\")\n",
        "vector_folder = os.path.join(base_directory, \"vector\")\n",
        "csv_folder = os.path.join(base_directory, \"csv\")\n",
        "\n",
        "# Create output directories\n",
        "for folder in [raster_folder, vector_folder, csv_folder]:\n",
        "    os.makedirs(folder, exist_ok=True)\n",
        "    print(f\"Created directory: {folder}\")"
      ]
    },
    {
      "cell_type": "markdown",
      "metadata": {
        "id": "-1zBPti7cn1C"
      },
      "source": [
        "## Find and List Raster Files"
      ]
    },
    {
      "cell_type": "code",
      "execution_count": null,
      "metadata": {
        "id": "WMv8Bn4Ocn1C"
      },
      "outputs": [],
      "source": [
        "# Find all raster files\n",
        "raster_files = []\n",
        "for file in os.listdir(raster_folder):\n",
        "    if file.endswith('.tif'):\n",
        "        full_path = os.path.join(raster_folder, file)\n",
        "        if os.path.isfile(full_path):\n",
        "            raster_files.append(full_path)\n",
        "\n",
        "if not raster_files:\n",
        "    raise FileNotFoundError(f\"No raster files found in '{raster_folder}'.\")\n",
        "\n",
        "print(\"Found the following raster files:\")\n",
        "for file in raster_files:\n",
        "    print(f\"  - {os.path.basename(file)}\")\n",
        "\n",
        "# Define band names\n",
        "band_names = [\"y2013\", \"y2015\", \"y2017\", \"y2019\", \"y2021\", \"y2023\"]"
      ]
    },
    {
      "cell_type": "markdown",
      "metadata": {},
      "source": [
        "## Step 1: Load and Prepare Raster Data"
      ]
    },
    {
      "cell_type": "code",
      "execution_count": null,
      "metadata": {},
      "outputs": [],
      "source": [
        "def load_raster_data(raster_path):\n",
        "    \"\"\"Load raster data and return its properties\"\"\"\n",
        "    raster_ds = gdal.Open(raster_path)\n",
        "    if raster_ds is None:\n",
        "        raise ValueError(f\"Could not open raster file: {raster_path}\")\n",
        "        \n",
        "    transform = raster_ds.GetGeoTransform()\n",
        "    num_bands = raster_ds.RasterCount\n",
        "    raster_width = raster_ds.RasterXSize\n",
        "    raster_height = raster_ds.RasterYSize\n",
        "    origin_x, pixel_width, _, origin_y, _, pixel_height = transform\n",
        "    band_arrays = [raster_ds.GetRasterBand(b).ReadAsArray() for b in range(1, num_bands + 1)]\n",
        "    spatial_ref = osr.SpatialReference()\n",
        "    spatial_ref.ImportFromWkt(raster_ds.GetProjection())\n",
        "    \n",
        "    return {\n",
        "        'raster_ds': raster_ds,\n",
        "        'transform': transform,\n",
        "        'num_bands': num_bands,\n",
        "        'width': raster_width,\n",
        "        'height': raster_height,\n",
        "        'origin_x': origin_x,\n",
        "        'origin_y': origin_y,\n",
        "        'pixel_width': pixel_width,\n",
        "        'pixel_height': pixel_height,\n",
        "        'band_arrays': band_arrays,\n",
        "        'spatial_ref': spatial_ref\n",
        "    }"
      ]
    },
    {
      "cell_type": "markdown",
      "metadata": {},
      "source": [
        "## Step 2: Create Vector Layers"
      ]
    },
    {
      "cell_type": "code",
      "execution_count": null,
      "metadata": {},
      "outputs": [],
      "source": [
        "def create_vector_layers(raster_name, spatial_ref, num_bands, actual_band_names):\n",
        "    \"\"\"Create and set up vector layers for points and polygons\"\"\"\n",
        "    driver = ogr.GetDriverByName(\"ESRI Shapefile\")\n",
        "    \n",
        "    # Define output paths\n",
        "    output_point_shapefile = os.path.join(vector_folder, f\"{raster_name}_points.shp\")\n",
        "    output_polygon_shapefile = os.path.join(vector_folder, f\"{raster_name}_polygons.shp\")\n",
        "    \n",
        "    # Remove existing files if they exist\n",
        "    for output_file in [output_point_shapefile, output_polygon_shapefile]:\n",
        "        if os.path.exists(output_file):\n",
        "            driver.DeleteDataSource(output_file)\n",
        "    \n",
        "    # Create new datasources\n",
        "    point_ds = driver.CreateDataSource(output_point_shapefile)\n",
        "    polygon_ds = driver.CreateDataSource(output_polygon_shapefile)\n",
        "    \n",
        "    # Create layers\n",
        "    point_layer = point_ds.CreateLayer(f\"{raster_name}_points\", spatial_ref, ogr.wkbPoint)\n",
        "    polygon_layer = polygon_ds.CreateLayer(f\"{raster_name}_polygons\", spatial_ref, ogr.wkbPolygon)\n",
        "    \n",
        "    # Create fields for both layers\n",
        "    for layer in [point_layer, polygon_layer]:\n",
        "        layer.CreateField(ogr.FieldDefn(\"pixel_id\", ogr.OFTInteger))\n",
        "        layer.CreateField(ogr.FieldDefn(\"x_coord\", ogr.OFTReal))\n",
        "        layer.CreateField(ogr.FieldDefn(\"y_coord\", ogr.OFTReal))\n",
        "        \n",
        "        for band_name in actual_band_names:\n",
        "            layer.CreateField(ogr.FieldDefn(band_name, ogr.OFTInteger))\n",
        "    \n",
        "    return point_layer, polygon_layer, point_ds, polygon_ds"
      ]
    },
    {
      "cell_type": "markdown",
      "metadata": {},
      "source": [
        "## Step 3: Process Pixels and Create Features"
      ]
    },
    {
      "cell_type": "code",
      "execution_count": null,
      "metadata": {},
      "outputs": [],
      "source": [
        "def process_pixels(raster_data, point_layer, polygon_layer, actual_band_names):\n",
        "    \"\"\"Process pixels and create vector features and CSV data\"\"\"\n",
        "    csv_data = []\n",
        "    pixel_id = 1\n",
        "    \n",
        "    for row in range(raster_data['height']):\n",
        "        for col in range(raster_data['width']):\n",
        "            x_coord = raster_data['origin_x'] + col * raster_data['pixel_width']\n",
        "            y_coord = raster_data['origin_y'] + row * raster_data['pixel_height']\n",
        "            pixel_values = [raster_data['band_arrays'][b][row, col] for b in range(raster_data['num_bands'])]\n",
        "            \n",
        "            if all(v == 0 for v in pixel_values):\n",
        "                continue\n",
        "                \n",
        "            # Create point geometry\n",
        "            point = ogr.Geometry(ogr.wkbPoint)\n",
        "            point.AddPoint(x_coord, y_coord)\n",
        "            \n",
        "            # Create polygon geometry\n",
        "            ring = ogr.Geometry(ogr.wkbLinearRing)\n",
        "            ring.AddPoint(x_coord, y_coord)\n",
        "            ring.AddPoint(x_coord + raster_data['pixel_width'], y_coord)\n",
        "            ring.AddPoint(x_coord + raster_data['pixel_width'], y_coord + raster_data['pixel_height'])\n",
        "            ring.AddPoint(x_coord, y_coord + raster_data['pixel_height'])\n",
        "            ring.AddPoint(x_coord, y_coord)\n",
        "            \n",
        "            polygon = ogr.Geometry(ogr.wkbPolygon)\n",
        "            polygon.AddGeometry(ring)\n",
        "            \n",
        "            # Add features to layers\n",
        "            for layer, geom in [(point_layer, point), (polygon_layer, polygon)]:\n",
        "                feature = ogr.Feature(layer.GetLayerDefn())\n",
        "                feature.SetGeometry(geom)\n",
        "                feature.SetField(\"pixel_id\", pixel_id)\n",
        "                feature.SetField(\"x_coord\", x_coord)\n",
        "                feature.SetField(\"y_coord\", y_coord)\n",
        "                \n",
        "                for band_idx, band_name in enumerate(actual_band_names):\n",
        "                    feature.SetField(band_name, int(pixel_values[band_idx]))\n",
        "                    \n",
        "                layer.CreateFeature(feature)\n",
        "            \n",
        "            csv_data.append([pixel_id, round(x_coord, 6), round(y_coord, 6)] +\n",
        "                           [int(v) for v in pixel_values])\n",
        "            pixel_id += 1\n",
        "            \n",
        "    return csv_data"
      ]
    },
    {
      "cell_type": "markdown",
      "metadata": {},
      "source": [
        "## Step 4: Create CSV Outputs"
      ]
    },
    {
      "cell_type": "code",
      "execution_count": null,
      "metadata": {},
      "outputs": [],
      "source": [
        "def create_csv_output(csv_data, raster_name, actual_band_names):\n",
        "    \"\"\"Create two CSV files from processed data - one with coordinates and one without\"\"\"\n",
        "    # Full CSV with coordinates\n",
        "    output_csv_path = os.path.join(csv_folder, f\"{raster_name}_vectorized.csv\")\n",
        "    output_csv_no_coords_path = os.path.join(csv_folder, f\"{raster_name}_vectorized_no_coords.csv\")\n",
        "    \n",
        "    # Create full DataFrame with all columns\n",
        "    full_columns = [\"pixel_id\", \"x_coord\", \"y_coord\"] + actual_band_names\n",
        "    df_full = pd.DataFrame(csv_data, columns=full_columns)\n",
        "    df_full.to_csv(output_csv_path, index=False)\n",
        "    \n",
        "    # Create DataFrame without coordinate columns\n",
        "    df_no_coords = df_full.drop(columns=[\"x_coord\", \"y_coord\"])\n",
        "    df_no_coords.to_csv(output_csv_no_coords_path, index=False)\n",
        "    \n",
        "    return output_csv_path, output_csv_no_coords_path"
      ]
    },
    {
      "cell_type": "markdown",
      "metadata": {},
      "source": [
        "## Main Processing Loop"
      ]
    },
    {
      "cell_type": "code",
      "execution_count": null,
      "metadata": {},
      "outputs": [],
      "source": [
        "# Process each raster file\n",
        "for raster_path in raster_files:\n",
        "    raster_name = os.path.splitext(os.path.basename(raster_path))[0]\n",
        "    print(f\"\\nProcessing: {raster_name}\")\n",
        "    \n",
        "    try:\n",
        "        # Step 1: Load raster data\n",
        "        print(\"Loading raster data...\")\n",
        "        raster_data = load_raster_data(raster_path)\n",
        "        actual_band_names = band_names[:raster_data['num_bands']]\n",
        "        \n",
        "        # Step 2: Create vector layers\n",
        "        print(\"Creating vector layers...\")\n",
        "        point_layer, polygon_layer, point_ds, polygon_ds = create_vector_layers(\n",
        "            raster_name, raster_data['spatial_ref'], raster_data['num_bands'], actual_band_names)\n",
        "        \n",
        "        # Step 3: Process pixels\n",
        "        print(\"Processing pixels...\")\n",
        "        csv_data = process_pixels(raster_data, point_layer, polygon_layer, actual_band_names)\n",
        "        \n",
        "        # Step 4: Create CSV outputs\n",
        "        print(\"Creating CSV outputs...\")\n",
        "        output_csv_path, output_csv_no_coords_path = create_csv_output(csv_data, raster_name, actual_band_names)\n",
        "        \n",
        "        # Clean up\n",
        "        point_ds = None\n",
        "        polygon_ds = None\n",
        "        raster_data['raster_ds'] = None\n",
        "        \n",
        "        print(f\"Successfully processed {raster_name}:\")\n",
        "        print(f\"  - Point shapefile: {raster_name}_points.shp\")\n",
        "        print(f\"  - Polygon shapefile: {raster_name}_polygons.shp\")\n",
        "        print(f\"  - CSV files:\")\n",
        "        print(f\"    * {os.path.basename(output_csv_path)} (with coordinates)\")\n",
        "        print(f\"    * {os.path.basename(output_csv_no_coords_path)} (without coordinates)\")\n",
        "        \n",
        "    except Exception as e:\n",
        "        print(f\"Error processing {raster_name}: {str(e)}\")\n",
        "        continue\n",
        "\n",
        "print(\"\\nProcessing complete for all rasters.\")"
      ]
    },
    {
      "cell_type": "markdown",
      "metadata": {
        "id": "pn6JsLKtcn1C"
      },
      "source": [
        "## Results\n",
        "\n",
        "The script has created the following outputs in your Google Drive:\n",
        "1. Point shapefiles (.shp) in the 'vector' folder\n",
        "2. Polygon shapefiles (.shp) in the 'vector' folder\n",
        "3. Two CSV files in the 'csv' folder for each raster:\n",
        "   - `*_vectorized.csv` (with coordinates)\n",
        "   - `*_vectorized_no_coords.csv` (without coordinates)\n",
        "\n",
        "You can find these files in the following location:\n",
        "```\n",
        "/content/drive/MyDrive/earthengine/conversion\n",
        "    ├── raster/\n",
        "    ├── vector/\n",
        "    └── csv/\n",
        "```"
      ]
    }
  ],
  "metadata": {
    "colab": {
      "provenance": [],
      "include_colab_link": true
    },
    "kernelspec": {
      "display_name": "Python 3",
      "language": "python",
      "name": "python3"
    },
    "language_info": {
      "name": "python"
    }
  },
  "nbformat": 4,
  "nbformat_minor": 0
}
