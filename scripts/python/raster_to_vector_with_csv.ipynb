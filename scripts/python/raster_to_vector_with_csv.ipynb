{
  "cells": [
    {
      "cell_type": "markdown",
      "metadata": {
        "id": "view-in-github",
        "colab_type": "text"
      },
      "source": [
        "<a href=\"https://colab.research.google.com/github/ulfboge/temporal-landcover-vectorizer/blob/main/scripts/python/raster_to_vector_with_csv.ipynb\" target=\"_parent\"><img src=\"https://colab.research.google.com/assets/colab-badge.svg\" alt=\"Open In Colab\"/></a>"
      ]
    },
    {
      "cell_type": "markdown",
      "metadata": {
        "id": "Gz68abshcn0_"
      },
      "source": [
        "# Raster to Vector Conversion Tool\n",
        "\n",
        "This notebook converts multi-band raster files into vector formats (points and polygons) and CSV files. It processes each pixel in the raster and creates corresponding geometries while preserving the band values.\n",
        "\n",
        "## Features:\n",
        "- Converts raster pixels to point and polygon shapefiles\n",
        "- Generates CSV files with pixel values\n",
        "- Handles multi-band rasters (up to 6 bands)\n",
        "- Skips pixels where all bands are 0\n",
        "- Maintains spatial reference and coordinates\n",
        "\n",
        "## Setup\n",
        "First, let's mount Google Drive and install required packages."
      ]
    },
    {
      "cell_type": "code",
      "execution_count": 3,
      "metadata": {
        "id": "ncEhk9_kcn1A",
        "outputId": "7c68fbc0-369e-42ee-848d-ff3b584e1851",
        "colab": {
          "base_uri": "https://localhost:8080/"
        }
      },
      "outputs": [
        {
          "output_type": "stream",
          "name": "stdout",
          "text": [
            "Drive already mounted at /content/drive; to attempt to forcibly remount, call drive.mount(\"/content/drive\", force_remount=True).\n"
          ]
        }
      ],
      "source": [
        "from google.colab import drive\n",
        "drive.mount('/content/drive')"
      ]
    },
    {
      "cell_type": "code",
      "execution_count": null,
      "metadata": {
        "id": "dGJLKaKHcn1B"
      },
      "outputs": [],
      "source": [
        "# Install required packages\n",
        "%%capture\n",
        "!apt-get update\n",
        "!apt-get install -y gdal-bin python3-gdal\n",
        "!pip install pandas numpy==1.24.3 gdal==3.4.3"
      ]
    },
    {
      "cell_type": "markdown",
      "metadata": {
        "id": "ANOCZAcpcn1B"
      },
      "source": [
        "## Import Libraries and Set Up Directories"
      ]
    },
    {
      "cell_type": "code",
      "execution_count": null,
      "metadata": {
        "id": "b4aKw9SScn1B"
      },
      "outputs": [],
      "source": [
        "from osgeo import gdal, ogr, osr\n",
        "import os\n",
        "import pandas as pd\n",
        "import glob\n",
        "\n",
        "# Define Base Directories\n",
        "base_directory = \"/content/drive/MyDrive/earthengine/conversion\"\n",
        "\n",
        "# Subdirectories\n",
        "raster_folder = os.path.join(base_directory, \"raster\")\n",
        "vector_folder = os.path.join(base_directory, \"vector\")\n",
        "csv_folder = os.path.join(base_directory, \"csv\")\n",
        "\n",
        "# Create output directories\n",
        "for folder in [raster_folder, vector_folder, csv_folder]:\n",
        "    os.makedirs(folder, exist_ok=True)\n",
        "    print(f\"Created directory: {folder}\")"
      ]
    },
    {
      "cell_type": "markdown",
      "metadata": {
        "id": "-1zBPti7cn1C"
      },
      "source": [
        "## Find and List Raster Files"
      ]
    },
    {
      "cell_type": "code",
      "execution_count": null,
      "metadata": {
        "id": "WMv8Bn4Ocn1C"
      },
      "outputs": [],
      "source": [
        "# Find all raster files\n",
        "raster_files = []\n",
        "for file in os.listdir(raster_folder):\n",
        "    if file.endswith('.tif'):\n",
        "        full_path = os.path.join(raster_folder, file)\n",
        "        if os.path.isfile(full_path):\n",
        "            raster_files.append(full_path)\n",
        "\n",
        "if not raster_files:\n",
        "    raise FileNotFoundError(f\"No raster files found in '{raster_folder}'.\")\n",
        "\n",
        "print(\"Found the following raster files:\")\n",
        "for file in raster_files:\n",
        "    print(f\"  - {os.path.basename(file)}\")\n",
        "\n",
        "# Define band names\n",
        "band_names = [\"y2013\", \"y2015\", \"y2017\", \"y2019\", \"y2021\", \"y2023\"]"
      ]
    },
    {
      "cell_type": "markdown",
      "metadata": {
        "id": "ercBX2KKcn1C"
      },
      "source": [
        "## Process Raster Files\n",
        "\n",
        "This cell processes each raster file and creates:\n",
        "1. Point shapefile\n",
        "2. Polygon shapefile\n",
        "3. Raw CSV file\n",
        "4. Cleaned CSV file"
      ]
    },
    {
      "cell_type": "code",
      "execution_count": null,
      "metadata": {
        "id": "vWpgIdjUcn1C"
      },
      "outputs": [],
      "source": [
        "# Process each raster file\n",
        "for raster_path in raster_files:\n",
        "    raster_name = os.path.splitext(os.path.basename(raster_path))[0]\n",
        "    print(f\"\\nProcessing: {raster_name}\")\n",
        "\n",
        "    # Define output paths\n",
        "    output_point_shapefile = os.path.join(vector_folder, f\"{raster_name}_points.shp\")\n",
        "    output_polygon_shapefile = os.path.join(vector_folder, f\"{raster_name}_polygons.shp\")\n",
        "    output_csv_path = os.path.join(csv_folder, f\"{raster_name}_vectorized.csv\")\n",
        "    cleaned_csv_path = os.path.join(csv_folder, f\"{raster_name}_vectorized_cleaned.csv\")\n",
        "\n",
        "    # Load raster\n",
        "    raster_ds = gdal.Open(raster_path)\n",
        "    if raster_ds is None:\n",
        "        print(f\"Skipping {raster_name}: Could not open raster file.\")\n",
        "        continue\n",
        "\n",
        "    # Get raster properties\n",
        "    transform = raster_ds.GetGeoTransform()\n",
        "    num_bands = raster_ds.RasterCount\n",
        "    raster_width = raster_ds.RasterXSize\n",
        "    raster_height = raster_ds.RasterYSize\n",
        "    origin_x, pixel_width, _, origin_y, _, pixel_height = transform\n",
        "\n",
        "    # Read raster data\n",
        "    band_arrays = [raster_ds.GetRasterBand(b).ReadAsArray() for b in range(1, num_bands + 1)]\n",
        "\n",
        "    # Create shapefiles\n",
        "    driver = ogr.GetDriverByName(\"ESRI Shapefile\")\n",
        "\n",
        "    # Set up point and polygon shapefiles\n",
        "    for output_file in [output_point_shapefile, output_polygon_shapefile]:\n",
        "        if os.path.exists(output_file):\n",
        "            driver.DeleteDataSource(output_file)\n",
        "\n",
        "    point_ds = driver.CreateDataSource(output_point_shapefile)\n",
        "    polygon_ds = driver.CreateDataSource(output_polygon_shapefile)\n",
        "\n",
        "    # Set spatial reference\n",
        "    spatial_ref = osr.SpatialReference()\n",
        "    spatial_ref.ImportFromWkt(raster_ds.GetProjection())\n",
        "\n",
        "    # Create layers\n",
        "    point_layer = point_ds.CreateLayer(f\"{raster_name}_points\", spatial_ref, ogr.wkbPoint)\n",
        "    polygon_layer = polygon_ds.CreateLayer(f\"{raster_name}_polygons\", spatial_ref, ogr.wkbPolygon)\n",
        "\n",
        "    # Create fields\n",
        "    for layer in [point_layer, polygon_layer]:\n",
        "        layer.CreateField(ogr.FieldDefn(\"pixel_id\", ogr.OFTInteger))\n",
        "        layer.CreateField(ogr.FieldDefn(\"x_coord\", ogr.OFTReal))\n",
        "        layer.CreateField(ogr.FieldDefn(\"y_coord\", ogr.OFTReal))\n",
        "\n",
        "        actual_band_names = band_names[:num_bands]\n",
        "        for band_name in actual_band_names:\n",
        "            layer.CreateField(ogr.FieldDefn(band_name, ogr.OFTInteger))\n",
        "\n",
        "    # Process pixels\n",
        "    csv_data = []\n",
        "    pixel_id = 1\n",
        "\n",
        "    for row in range(raster_height):\n",
        "        for col in range(raster_width):\n",
        "            x_coord = origin_x + col * pixel_width\n",
        "            y_coord = origin_y + row * pixel_height\n",
        "            pixel_values = [band_arrays[b - 1][row, col] for b in range(1, num_bands + 1)]\n",
        "\n",
        "            if all(v == 0 for v in pixel_values):\n",
        "                continue\n",
        "\n",
        "            # Create geometries and features\n",
        "            point = ogr.Geometry(ogr.wkbPoint)\n",
        "            point.AddPoint(x_coord, y_coord)\n",
        "\n",
        "            ring = ogr.Geometry(ogr.wkbLinearRing)\n",
        "            ring.AddPoint(x_coord, y_coord)\n",
        "            ring.AddPoint(x_coord + pixel_width, y_coord)\n",
        "            ring.AddPoint(x_coord + pixel_width, y_coord + pixel_height)\n",
        "            ring.AddPoint(x_coord, y_coord + pixel_height)\n",
        "            ring.AddPoint(x_coord, y_coord)\n",
        "\n",
        "            polygon = ogr.Geometry(ogr.wkbPolygon)\n",
        "            polygon.AddGeometry(ring)\n",
        "\n",
        "            # Add features to layers\n",
        "            for layer, geom in [(point_layer, point), (polygon_layer, polygon)]:\n",
        "                feature = ogr.Feature(layer.GetLayerDefn())\n",
        "                feature.SetGeometry(geom)\n",
        "                feature.SetField(\"pixel_id\", pixel_id)\n",
        "                feature.SetField(\"x_coord\", x_coord)\n",
        "                feature.SetField(\"y_coord\", y_coord)\n",
        "\n",
        "                for band_idx, band_name in enumerate(actual_band_names):\n",
        "                    feature.SetField(band_name, int(pixel_values[band_idx]))\n",
        "\n",
        "                layer.CreateFeature(feature)\n",
        "\n",
        "            csv_data.append([pixel_id, round(x_coord, 6), round(y_coord, 6)] +\n",
        "                           [int(v) for v in pixel_values])\n",
        "            pixel_id += 1\n",
        "\n",
        "    # Clean up\n",
        "    point_ds = None\n",
        "    polygon_ds = None\n",
        "    raster_ds = None\n",
        "\n",
        "    # Create CSVs\n",
        "    csv_columns = [\"pixel_id\", \"x_coord\", \"y_coord\"] + actual_band_names\n",
        "    df = pd.DataFrame(csv_data, columns=csv_columns)\n",
        "    df.to_csv(output_csv_path, index=False)\n",
        "\n",
        "    df[actual_band_names] = df[actual_band_names].applymap(lambda x: int(x) if pd.notnull(x) else \"\")\n",
        "    df.to_csv(cleaned_csv_path, index=False)\n",
        "\n",
        "    print(f\"Created outputs for {raster_name}:\")\n",
        "    print(f\"  - Point shapefile: {os.path.basename(output_point_shapefile)}\")\n",
        "    print(f\"  - Polygon shapefile: {os.path.basename(output_polygon_shapefile)}\")\n",
        "    print(f\"  - CSV files: {os.path.basename(output_csv_path)} and {os.path.basename(cleaned_csv_path)}\")\n",
        "\n",
        "print(\"\\nProcessing complete for all rasters.\")"
      ]
    },
    {
      "cell_type": "markdown",
      "metadata": {
        "id": "pn6JsLKtcn1C"
      },
      "source": [
        "## Results\n",
        "\n",
        "The script has created the following outputs in your Google Drive:\n",
        "1. Point shapefiles (.shp) in the 'vector' folder\n",
        "2. Polygon shapefiles (.shp) in the 'vector' folder\n",
        "3. Raw CSV files in the 'csv' folder\n",
        "4. Cleaned CSV files in the 'csv' folder\n",
        "\n",
        "You can find these files in the following location:\n",
        "```\n",
        "/content/drive/MyDrive/earthengine/conversion\n",
        "    ├── raster/\n",
        "    ├── vector/\n",
        "    └── csv/\n",
        "```"
      ]
    }
  ],
  "metadata": {
    "colab": {
      "provenance": [],
      "include_colab_link": true
    },
    "kernelspec": {
      "display_name": "Python 3",
      "language": "python",
      "name": "python3"
    },
    "language_info": {
      "name": "python"
    }
  },
  "nbformat": 4,
  "nbformat_minor": 0
}