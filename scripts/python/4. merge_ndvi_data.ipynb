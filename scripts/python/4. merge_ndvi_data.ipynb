{
 "cells": [
  {
   "cell_type": "markdown",
   "metadata": {},
   "source": [
    "# NDVI Data Merger\n",
    "\n",
    "[![Open In Colab](https://colab.research.google.com/assets/colab-badge.svg)](https://colab.research.google.com/github/YOUR_USERNAME/YOUR_REPO/blob/main/merge_ndvi_data.ipynb)\n",
    "\n",
    "This notebook merges NDVI data from multiple years (2013-2023) into separate files for each area."
   ]
  },
  {
   "cell_type": "code",
   "execution_count": null,
   "metadata": {},
   "source": [
    "# Mount Google Drive\n",
    "from google.colab import drive\n",
    "drive.mount('/content/drive')"
   ]
  },
  {
   "cell_type": "code",
   "execution_count": null,
   "metadata": {},
   "source": [
    "import pandas as pd\n",
    "import glob\n",
    "import os\n",
    "\n",
    "# Define the base directory where CSV files are stored\n",
    "base_dir = '/content/drive/MyDrive/earthengine/csv'\n",
    "\n",
    "# Define the years and areas to process\n",
    "years = [2013, 2015, 2017, 2019, 2021, 2023]\n",
    "areas = range(5, 9)  # Areas 5 through 8\n",
    "\n",
    "# Process each area separately\n",
    "for area in areas:\n",
    "    print(f\"Processing Area {area}...\")\n",
    "    \n",
    "    # Start with the first year as base\n",
    "    base_file = f\"{base_dir}/NDVI_Annual_{years[0]}_Area_{area}_vectorized.csv\"\n",
    "    if not os.path.exists(base_file):\n",
    "        print(f\"Warning: Base file not found for Area {area}\")\n",
    "        continue\n",
    "        \n",
    "    # Read the base year data\n",
    "    base_df = pd.read_csv(base_file)\n",
    "    \n",
    "    # Rename the year column to include the year\n",
    "    base_df = base_df.rename(columns={'y2013': f'y{years[0]}'})\n",
    "    \n",
    "    # Merge with subsequent years\n",
    "    for year in years[1:]:\n",
    "        year_file = f\"{base_dir}/NDVI_Annual_{year}_Area_{area}_vectorized.csv\"\n",
    "        \n",
    "        if not os.path.exists(year_file):\n",
    "            print(f\"Warning: File not found for year {year}, Area {area}\")\n",
    "            continue\n",
    "            \n",
    "        # Read the year's data\n",
    "        year_df = pd.read_csv(year_file)\n",
    "        \n",
    "        # Rename the year column\n",
    "        year_df = year_df.rename(columns={f'y{year}': f'y{year}'})\n",
    "        \n",
    "        # Merge with base dataframe\n",
    "        base_df = pd.merge(\n",
    "            base_df,\n",
    "            year_df[['pixel_id', f'y{year}']],\n",
    "            on='pixel_id',\n",
    "            how='outer'\n",
    "        )\n",
    "    \n",
    "    # Save the merged data\n",
    "    output_file = f\"{base_dir}/NDVI_Annual_AllYears_Area_{area}.csv\"\n",
    "    base_df.to_csv(output_file, index=False)\n",
    "    print(f\"Saved merged data for Area {area} to {output_file}\")\n",
    "\n",
    "print(\"\\nProcessing complete!\")"
   ]
  }
 ],
 "metadata": {
  "kernelspec": {
   "display_name": "Python 3",
   "language": "python",
   "name": "python3"
  },
  "language_info": {
   "codemirror_mode": {
    "name": "ipython",
    "version": 3
   },
   "file_extension": ".py",
   "mimetype": "text/x-python",
   "name": "python",
   "nbconvert_exporter": "python",
   "pygments_lexer": "ipython3",
   "version": "3.8.0"
  }
 },
 "nbformat": 4,
 "nbformat_minor": 4
}
