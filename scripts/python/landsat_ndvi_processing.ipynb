{
 "cells": [
  {
   "cell_type": "markdown",
   "metadata": {},
   "source": [
    "# Landsat NDVI Processing with Google Earth Engine\n",
    "\n",
    "This notebook processes Landsat 8 imagery to calculate median NDVI values for specific years and exports the results to Earth Engine assets."
   ]
  },
  {
   "cell_type": "code",
   "execution_count": null,
   "metadata": {},
   "source": [
    "import ee\n",
    "\n",
    "# Initialize Google Earth Engine\n",
    "ee.Initialize()"
   ]
  },
  {
   "cell_type": "code",
   "execution_count": null,
   "metadata": {},
   "source": [
    "# Define the parameters\n",
    "years = [2013, 2015, 2017, 2019, 2021, 2023]\n",
    "\n",
    "# Define the area of interest (feature collection)\n",
    "aoi = ee.FeatureCollection('projects/ee-komba/assets/bbox_wirong')\n",
    "\n",
    "# Define the time range (April-June)\n",
    "start_date = '04-01'\n",
    "end_date = '06-30'"
   ]
  },
  {
   "cell_type": "code",
   "execution_count": null,
   "metadata": {},
   "source": [
    "def calculate_and_export_median_ndvi(year):\n",
    "    # Filter the image collection by date and area\n",
    "    filtered_collection = ee.ImageCollection('LANDSAT/LC08/C02/T1_L2') \\\n",
    "        .filterDate(ee.Date.fromYMD(year, 4, 1), ee.Date.fromYMD(year, 6, 30)) \\\n",
    "        .filterBounds(aoi)\n",
    "\n",
    "    def mask_clouds_and_calculate_ndvi(image):\n",
    "        # Apply cloud mask\n",
    "        cloud_mask = image.select('QA_PIXEL').bitwiseAnd(int('11111', 2)).eq(0)  \n",
    "        masked_image = image.updateMask(cloud_mask)\n",
    "        # Calculate NDVI\n",
    "        ndvi = masked_image.normalizedDifference(['SR_B5', 'SR_B4']).rename('NDVI')  \n",
    "        return masked_image.addBands(ndvi)\n",
    "\n",
    "    # Apply cloud masking and NDVI calculation to each image in the collection\n",
    "    processed_collection = filtered_collection.map(mask_clouds_and_calculate_ndvi)\n",
    "\n",
    "    # Calculate the median NDVI\n",
    "    median_ndvi = processed_collection.select('NDVI').median()\n",
    "\n",
    "    # Define the export path\n",
    "    export_path = f'projects/ee-komba/assets/kaya/median_ndvi_{year}'\n",
    "\n",
    "    # Export the median NDVI as an asset\n",
    "    task = ee.batch.Export.image.toAsset(\n",
    "        image=median_ndvi,\n",
    "        description=f'median_ndvi_{year}',\n",
    "        assetId=export_path,\n",
    "        region=aoi.geometry().bounds(),\n",
    "        scale=30,  # Adjust the scale as needed\n",
    "        maxPixels=1e13  # Adjust maxPixels as needed\n",
    "    )\n",
    "    task.start()\n",
    "    print(f'Exporting median NDVI for {year} to {export_path}')"
   ]
  },
  {
   "cell_type": "code",
   "execution_count": null,
   "metadata": {},
   "source": [
    "# Loop through the years and calculate/export median NDVI\n",
    "for year in years:\n",
    "    calculate_and_export_median_ndvi(year)\n",
    "\n",
    "print('All tasks started.')"
   ]
  }
 ],
 "metadata": {
  "kernelspec": {
   "display_name": "Python 3",
   "language": "python",
   "name": "python3"
  },
  "language_info": {
   "codemirror_mode": {
    "name": "ipython",
    "version": 3
   },
   "file_extension": ".py",
   "mimetype": "text/x-python",
   "name": "python",
   "nbconvert_exporter": "python",
   "pygments_lexer": "ipython3",
   "version": "3.8.0"
  }
 },
 "nbformat": 4,
 "nbformat_minor": 4
}
