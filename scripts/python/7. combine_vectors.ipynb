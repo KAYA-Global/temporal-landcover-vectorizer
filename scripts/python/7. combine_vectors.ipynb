{
 "cells": [
  {
   "cell_type": "markdown",
   "metadata": {},
   "source": [
    "[![Open In Colab](https://colab.research.google.com/assets/colab-badge.svg)](https://colab.research.google.com/github/ulfboge/temporal-landcover-vectorizer/blob/main/polygon_extraction.ipynb)\n",
    "\n",
    "# Polygon Extraction from Shapefiles\n",
    "\n",
    "This notebook processes shapefiles and extracts polygons based on sampled coordinates. It uses GeoPandas for spatial operations and saves the results to a GeoPackage file."
   ]
  },
  {
   "cell_type": "code",
   "execution_count": null,
   "metadata": {},
   "outputs": [],
   "source": [
    "# Import required libraries\n",
    "from google.colab import drive\n",
    "import pandas as pd\n",
    "import geopandas as gpd\n",
    "import os\n",
    "from shapely.geometry import Point\n",
    "import warnings\n",
    "from pathlib import Path\n",
    "\n",
    "warnings.filterwarnings('ignore')"
   ]
  },
  {
   "cell_type": "code",
   "execution_count": null,
   "metadata": {},
   "outputs": [],
   "source": [
    "# Mount Google Drive\n",
    "drive.mount('/content/drive')\n",
    "\n",
    "# Define input and output paths\n",
    "input_directory = \"/content/drive/MyDrive/earthengine/conversion/vector\"  # Updated input directory\n",
    "output_gpkg = f\"{input_directory}/extracted_polygons.gpkg\"  # Output GeoPackage"
   ]
  },
  {
   "cell_type": "markdown",
   "metadata": {},
   "source": [
    "## Define Helper Functions\n",
    "\n",
    "The following cells contain helper functions for loading coordinates and processing the data."
   ]
  },
  {
   "cell_type": "code",
   "execution_count": null,
   "metadata": {},
   "outputs": [],
   "source": [
    "# Function to load sampled coordinates\n",
    "def load_sampled_coordinates(csv_path):\n",
    "    df = pd.read_csv(csv_path)\n",
    "    return df[['x_coord', 'y_coord']].drop_duplicates()\n",
    "\n",
    "# Function to create a points GeoDataFrame\n",
    "def create_points_gdf(coords_df, crs):\n",
    "    geometry = [Point(xy) for xy in zip(coords_df['x_coord'], coords_df['y_coord'])]\n",
    "    return gpd.GeoDataFrame(coords_df, geometry=geometry, crs=crs)"
   ]
  },
  {
   "cell_type": "code",
   "execution_count": null,
   "metadata": {},
   "outputs": [],
   "source": [
    "# Function to extract intersecting polygons\n",
    "def extract_polygons(points_gdf, shapefile_path, buffer_distance=0):\n",
    "    polygons_gdf = gpd.read_file(shapefile_path)\n",
    "    \n",
    "    if points_gdf.crs != polygons_gdf.crs:\n",
    "        points_gdf = points_gdf.to_crs(polygons_gdf.crs)\n",
    "    \n",
    "    if buffer_distance > 0:\n",
    "        points_buffered = points_gdf.geometry.buffer(buffer_distance)\n",
    "        intersecting_polygons = gpd.sjoin(polygons_gdf, \n",
    "                                          gpd.GeoDataFrame(geometry=points_buffered, crs=points_gdf.crs),\n",
    "                                          how='inner', predicate='intersects')\n",
    "    else:\n",
    "        intersecting_polygons = gpd.sjoin(polygons_gdf, points_gdf, how='inner', predicate='contains')\n",
    "    \n",
    "    intersecting_polygons = intersecting_polygons.drop_duplicates()\n",
    "    if 'index_right' in intersecting_polygons.columns:\n",
    "        intersecting_polygons = intersecting_polygons.drop(columns=['index_right'])\n",
    "    \n",
    "    return intersecting_polygons"
   ]
  },
  {
   "cell_type": "markdown",
   "metadata": {},
   "source": [
    "## Process the Data\n",
    "\n",
    "Now we'll load the coordinates and process each shapefile."
   ]
  },
  {
   "cell_type": "code",
   "execution_count": null,
   "metadata": {},
   "outputs": [],
   "source": [
    "# Check if input files exist\n",
    "sampled_data_path = f\"{input_directory}/sampled_data_with_coords.csv\"\n",
    "if not os.path.exists(sampled_data_path):\n",
    "    raise FileNotFoundError(f\"Sampled data file not found: {sampled_data_path}\")\n",
    "\n",
    "# Load coordinates\n",
    "coords_df = load_sampled_coordinates(sampled_data_path)\n",
    "print(f\"Loaded {len(coords_df)} unique coordinate pairs\")\n",
    "\n",
    "# Create points GeoDataFrame (assuming EPSG:4326)\n",
    "points_gdf = create_points_gdf(coords_df, crs=\"EPSG:4326\")"
   ]
  },
  {
   "cell_type": "code",
   "execution_count": null,
   "metadata": {},
   "outputs": [],
   "source": [
    "# Process each shapefile\n",
    "for shapefile in Path(input_directory).glob(\"*.shp\"):\n",
    "    layer_name = shapefile.stem\n",
    "    print(f\"Processing {layer_name}\")\n",
    "    \n",
    "    try:\n",
    "        intersecting_polygons = extract_polygons(points_gdf, shapefile)\n",
    "        intersecting_polygons.to_file(output_gpkg, layer=layer_name, driver=\"GPKG\", mode='a' if os.path.exists(output_gpkg) else 'w')\n",
    "        print(f\"Saved {len(intersecting_polygons)} polygons for layer {layer_name}\")\n",
    "    except Exception as e:\n",
    "        print(f\"Error processing {layer_name}: {str(e)}\")\n",
    "\n",
    "print(f\"\\nAll layers have been processed and saved to {output_gpkg}\")"
   ]
  }
 ],
 "metadata": {
  "kernelspec": {
   "display_name": "Python 3",
   "language": "python",
   "name": "python3"
  },
  "language_info": {
   "codemirror_mode": {
    "name": "ipython",
    "version": 3
   },
   "file_extension": ".py",
   "mimetype": "text/x-python",
   "name": "python",
   "nbconvert_exporter": "python",
   "pygments_lexer": "ipython3",
   "version": "3.8.0"
  }
 },
 "nbformat": 4,
 "nbformat_minor": 4
}
