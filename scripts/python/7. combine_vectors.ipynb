{
 "cells": [
  {
   "cell_type": "markdown",
   "metadata": {},
   "source": [
    "# NDVI Vector Data Processing - Shapefile to GeoPackage Conversion\n",
    "\n",
    "[![Open In Colab](https://colab.research.google.com/assets/colab-badge.svg)](https://colab.research.google.com/github/ulfboge/temporal-landcover-vectorizer/blob/main/combine_ndvi_vectors.ipynb)\n",
    "\n",
    "This notebook processes NDVI vector files (shapefiles) stored in Google Drive, combining data from multiple years (2013-2023) into single geopackage files per area.\n",
    "\n",
    "## Connect to Google Drive\n",
    "First, let's mount your Google Drive to access the necessary files."
   ]
  },
  {
   "cell_type": "code",
   "execution_count": null,
   "metadata": {},
   "outputs": [],
   "source": [
    "from google.colab import drive\n",
    "drive.mount('/content/drive')"
   ]
  },
  {
   "cell_type": "markdown",
   "metadata": {},
   "source": [
    "## Setup\n",
    "Now, let's install the required packages and import libraries."
   ]
  },
  {
   "cell_type": "code",
   "execution_count": null,
   "metadata": {},
   "outputs": [],
   "source": [
    "!pip install pandas geopandas numpy"
   ]
  },
  {
   "cell_type": "code",
   "execution_count": null,
   "metadata": {},
   "outputs": [],
   "source": [
    "import os\n",
    "import glob\n",
    "import pandas as pd\n",
    "import geopandas as gpd\n",
    "from pathlib import Path\n",
    "import warnings\n",
    "warnings.filterwarnings('ignore')"
   ]
  },
  {
   "cell_type": "markdown",
   "metadata": {},
   "source": [
    "## Define Processing Functions"
   ]
  },
  {
   "cell_type": "code",
   "execution_count": null,
   "metadata": {},
   "outputs": [],
   "source": [
    "def get_area_files(base_path, area_number):\n",
    "    \"\"\"Get all NDVI shapefile files for a specific area across years.\"\"\"\n",
    "    pattern = os.path.join(base_path, f'NDVI_JanMay_*_Area_{area_number}_polygons.shp')\n",
    "    return glob.glob(pattern)\n",
    "\n",
    "def extract_year(filename):\n",
    "    \"\"\"Extract year from filename.\"\"\"\n",
    "    parts = os.path.basename(filename).split('_')\n",
    "    return next(part for part in parts if part.isdigit())\n",
    "\n",
    "def process_area(base_path, area_number):\n",
    "    \"\"\"Process all files for a specific area and combine years.\"\"\"\n",
    "    files = get_area_files(base_path, area_number)\n",
    "    if not files:\n",
    "        print(f\"No shapefile files found for Area {area_number}\")\n",
    "        return None\n",
    "    \n",
    "    print(f\"Found {len(files)} shapefiles for Area {area_number}\")\n",
    "    \n",
    "    # Read first file to get base structure\n",
    "    base_gdf = gpd.read_file(files[0])\n",
    "    year = extract_year(files[0])\n",
    "    base_gdf = base_gdf.rename(columns={'y': f'y{year}'})\n",
    "    print(f\"Processed first file for year {year}\")\n",
    "    \n",
    "    # Process remaining files\n",
    "    for file in files[1:]:\n",
    "        year = extract_year(file)\n",
    "        print(f\"Processing file for year {year}\")\n",
    "        temp_gdf = gpd.read_file(file)\n",
    "        temp_gdf = temp_gdf.rename(columns={'y': f'y{year}'})\n",
    "        \n",
    "        # Merge based on pixel_id\n",
    "        base_gdf = base_gdf.merge(\n",
    "            temp_gdf[['pixel_id', f'y{year}', 'geometry']],\n",
    "            on=['pixel_id', 'geometry'],\n",
    "            how='outer'\n",
    "        )\n",
    "    \n",
    "    return base_gdf"
   ]
  },
  {
   "cell_type": "markdown",
   "metadata": {},
   "source": [
    "## Process All Areas"
   ]
  },
  {
   "cell_type": "code",
   "execution_count": null,
   "metadata": {},
   "outputs": [],
   "source": [
    "# Set paths\n",
    "base_path = '/content/drive/MyDrive/earthengine/conversion/vector'  # Directory containing input shapefiles\n",
    "\n",
    "print(f\"\\nStarting processing with base path: {base_path}\")\n",
    "all_files = glob.glob(os.path.join(base_path, 'NDVI_JanMay_*_Area_*_polygons.shp'))\n",
    "print(f\"Found {len(all_files)} input shapefiles\")\n",
    "\n",
    "if not all_files:\n",
    "    print(\"No input shapefiles found. Please check:\")\n",
    "    print(f\"1. The path is correct: {base_path}\")\n",
    "    print(\"2. Files follow the pattern: NDVI_JanMay_*_Area_*_polygons.shp\")\n",
    "    print(\"\\nFiles in directory:\")\n",
    "    print(glob.glob(os.path.join(base_path, '*')))\n",
    "else:\n",
    "    # Get unique area numbers\n",
    "    area_numbers = set()\n",
    "    for file in all_files:\n",
    "        parts = os.path.basename(file).split('_')\n",
    "        try:\n",
    "            area_idx = parts.index('Area')\n",
    "            if area_idx + 1 < len(parts):\n",
    "                area_num = parts[area_idx + 1]\n",
    "                area_numbers.add(area_num)\n",
    "        except ValueError:\n",
    "            print(f\"Warning: Could not process filename: {file}\")\n",
    "    \n",
    "    print(f\"\\nFound {len(area_numbers)} unique areas: {sorted(area_numbers)}\")\n",
    "    \n",
    "    # Process each area\n",
    "    for area_num in sorted(area_numbers):\n",
    "        print(f\"\\nProcessing Area {area_num}...\")\n",
    "        result_gdf = process_area(base_path, area_num)\n",
    "        \n",
    "        if result_gdf is not None:\n",
    "            output_path = os.path.join(base_path, f'NDVI_Combined_Area_{area_num}.gpkg')\n",
    "            try:\n",
    "                result_gdf.to_file(output_path, driver='GPKG')\n",
    "                print(f\"Successfully saved combined data for Area {area_num} to {output_path}\")\n",
    "                \n",
    "                # Verify the output\n",
    "                if os.path.exists(output_path):\n",
    "                    verify_gdf = gpd.read_file(output_path)\n",
    "                    print(f\"Verification - Output columns: {verify_gdf.columns.tolist()}\")\n",
    "                    print(f\"Verification - Number of records: {len(verify_gdf)}\")\n",
    "            except Exception as e:\n",
    "                print(f\"Error saving file for Area {area_num}: {str(e)}\")\n",
    "        else:\n",
    "            print(f\"No data to save for Area {area_num}\")\n",
    "\n",
    "print(\"\\nProcessing complete!\")"
   ]
  },
  {
   "cell_type": "markdown",
   "metadata": {},
   "source": [
    "## Verify Results"
   ]
  },
  {
   "cell_type": "code",
   "execution_count": null,
   "metadata": {},
   "outputs": [],
   "source": [
    "# Verification section\n",
    "try:\n",
    "    output_files = glob.glob(os.path.join(base_path, 'NDVI_Combined_Area_*.gpkg'))\n",
    "    \n",
    "    if not output_files:\n",
    "        print(\"\\nNo output geopackage files found. Please check:\")\n",
    "        print(\"1. The processing completed successfully\")\n",
    "        print(\"2. The files were saved in the correct location\")\n",
    "        print(f\"3. You have write permissions in {base_path}\")\n",
    "        print(\"\\nCurrent files in directory:\")\n",
    "        print(glob.glob(os.path.join(base_path, '*')))\n",
    "    else:\n",
    "        print(f\"\\nFound {len(output_files)} output geopackage files\")\n",
    "        # Read the first output file\n",
    "        sample_file = output_files[0]\n",
    "        sample_gdf = gpd.read_file(sample_file)\n",
    "        print(\"\\nOutput file structure:\")\n",
    "        print(sample_gdf.columns.tolist())\n",
    "        print(\"\\nFirst few rows:\")\n",
    "        print(sample_gdf.head())\n",
    "        print(\"\\nOutput files created:\")\n",
    "        for f in output_files:\n",
    "            print(f\"- {os.path.basename(f)}\")\n",
    "\n",
    "except Exception as e:\n",
    "    print(f\"\\nError during verification: {str(e)}\")\n",
    "    print(\"\\nDebug information:\")\n",
    "    print(f\"Base path: {base_path}\")\n",
    "    print(\"Files in directory:\")\n",
    "    print(glob.glob(os.path.join(base_path, '*')))"
   ]
  }
 ],
 "metadata": {
  "kernelspec": {
   "display_name": "Python 3",
   "language": "python",
   "name": "python3"
  },
  "language_info": {
   "codemirror_mode": {
    "name": "ipython",
    "version": 3
   },
   "file_extension": ".py",
   "mimetype": "text/x-python",
   "name": "python",
   "nbconvert_exporter": "python",
   "pygments_lexer": "ipython3",
   "version": "3.8.0"
  }
 },
 "nbformat": 4,
 "nbformat_minor": 4
}
