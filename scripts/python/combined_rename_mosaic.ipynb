{
 "cells": [
  {
   "cell_type": "markdown",
   "metadata": {},
   "source": [
    "# Combine Rename & Mosaic Rasters\n",
    "\n",
    "[![Open In Colab](https://colab.research.google.com/assets/colab-btn.svg)](https://colab.research.google.com/github/ulfboge/temporal-landcover-vectorizer/blob/main/scripts/python/combined_rename_mosaic.ipynb)\n",
    "\n",
    "This notebook demonstrates how to rename raster bands and then mosaic the resulting rasters into one output.\n",
    "\n",
    "We'll:\n",
    "1. Create directories (using `os.makedirs`).\n",
    "2. Define functions to rename raster bands.\n",
    "3. Rename each raster in a specified input directory.\n",
    "4. Mosaic the renamed rasters into one final file."
   ]
  },
  {
   "cell_type": "code",
   "metadata": {
    "colab": {}
   },
   "source": [
    "import os\n",
    "from osgeo import gdal\n",
    "import glob\n",
    "\n",
    "# 1) Define directories\n",
    "data_dir = \"/content/drive/MyDrive/earthengine/ndvi\"  # Folder containing your original TIFFs\n",
    "output_folder = os.path.join(data_dir, \"ndvi_combined\")\n",
    "\n",
    "# Create directories if they don't exist\n",
    "os.makedirs(data_dir, exist_ok=True)\n",
    "os.makedirs(output_folder, exist_ok=True)\n",
    "\n",
    "print(f\"Data directory: {data_dir}\")\n",
    "print(f\"Output folder : {output_folder}\")"
   ],
   "execution_count": null,
   "outputs": []
  },
  {
   "cell_type": "markdown",
   "metadata": {},
   "source": [
    "## 2) Define Utility Functions\n",
    "\n",
    "### `rename_raster_bands()`\n",
    "- Opens a raster using GDAL.\n",
    "- Creates a copy of that raster.\n",
    "- Renames each band using `SetDescription`.\n",
    "- Saves the new raster in a specified output path.\n",
    "\n",
    "### `mosaic_rasters()`\n",
    "- Uses `gdal.Warp` to merge multiple input rasters into a single output mosaic."
   ]
  },
  {
   "cell_type": "code",
   "metadata": {
    "colab": {}
   },
   "source": [
    "def rename_raster_bands(input_raster_path, output_raster_path, band_names):\n",
    "    \"\"\"\n",
    "    Renames raster bands for a given input raster, then writes out a new file.\n",
    "\n",
    "    :param input_raster_path:  Path to the input raster\n",
    "    :param output_raster_path: Path to the output raster\n",
    "    :param band_names:         List of strings for new band names\n",
    "    \"\"\"\n",
    "    # Open input raster\n",
    "    dataset = gdal.Open(input_raster_path, gdal.GA_ReadOnly)\n",
    "    if not dataset:\n",
    "        raise RuntimeError(f\"Could not open {input_raster_path}\")\n",
    "\n",
    "    # Create output raster (copy)\n",
    "    driver = gdal.GetDriverByName(\"GTiff\")\n",
    "    out_dataset = driver.CreateCopy(output_raster_path, dataset, 0)\n",
    "\n",
    "    # Rename each band using metadata\n",
    "    for i, name in enumerate(band_names, start=1):\n",
    "        band = out_dataset.GetRasterBand(i)\n",
    "        if band:\n",
    "            band.SetDescription(name)\n",
    "\n",
    "    # Flush and close\n",
    "    out_dataset.FlushCache()\n",
    "    out_dataset = None\n",
    "    dataset = None\n",
    "\n",
    "def mosaic_rasters(input_rasters, output_mosaic_path):\n",
    "    \"\"\"\n",
    "    Merges a list of rasters into a single output mosaic using GDAL.\n",
    "\n",
    "    :param input_rasters:      List of raster file paths\n",
    "    :param output_mosaic_path: Path to the output mosaic file\n",
    "    \"\"\"\n",
    "    # Use gdal.Warp for mosaic\n",
    "    gdal.Warp(\n",
    "        destNameOrDestDS=output_mosaic_path,\n",
    "        srcDSOrSrcDSTab=input_rasters,\n",
    "        format=\"GTiff\",\n",
    "        options=[\"COMPRESS=LZW\"]  # Optional compression\n",
    "    )\n",
    "    print(f\"Mosaic created: {output_mosaic_path}\")"
   ],
   "execution_count": null,
   "outputs": []
  },
  {
   "cell_type": "markdown",
   "metadata": {},
   "source": [
    "## 3) Rename Raster Bands in All `.tif` Files\n",
    "In this step:\n",
    "- We look for all TIFFs in `data_dir`.\n",
    "- We rename the band(s) to whatever we want (in this example, a single band named `NDVI`).\n",
    "- Each renamed file is saved in `output_folder` with a `_renamed.tif` suffix."
   ]
  },
  {
   "cell_type": "code",
   "metadata": {
    "colab": {}
   },
   "source": [
    "input_tifs = glob.glob(os.path.join(data_dir, '*.tif'))\n",
    "print(\"Found TIFs:\", input_tifs)\n",
    "\n",
    "# Suppose we only have 1 band that we want to label 'NDVI'\n",
    "new_band_names = [\"NDVI\"]\n",
    "\n",
    "renamed_tifs = []\n",
    "\n",
    "for in_tif in input_tifs:\n",
    "    base_name = os.path.basename(in_tif)\n",
    "    out_tif = os.path.join(output_folder, os.path.splitext(base_name)[0] + \"_renamed.tif\")\n",
    "\n",
    "    rename_raster_bands(in_tif, out_tif, new_band_names)\n",
    "    renamed_tifs.append(out_tif)\n",
    "\n",
    "print(\"Renaming complete.\")\n",
    "print(\"Renamed TIFs:\", renamed_tifs)"
   ],
   "execution_count": null,
   "outputs": []
  },
  {
   "cell_type": "markdown",
   "metadata": {},
   "source": [
    "## 4) Mosaic the Renamed Raster Files\n",
    "Next, we combine all these renamed TIFs into a single mosaic."
   ]
  },
  {
   "cell_type": "code",
   "metadata": {
    "colab": {}
   },
   "source": [
    "final_mosaic_path = os.path.join(output_folder, \"ndvi_mosaic.tif\")\n",
    "\n",
    "mosaic_rasters(renamed_tifs, final_mosaic_path)\n",
    "print(\"All rasters have been renamed and mosaiced into:\", final_mosaic_path)"
   ],
   "execution_count": null,
   "outputs": []
  },
  {
   "cell_type": "markdown",
   "metadata": {},
   "source": [
    "### Done!\n",
    "Check your Google Drive folder for the `ndvi_combined` subfolder, which will now contain:\n",
    "1. The renamed individual TIFs (with `_renamed` suffix).\n",
    "2. The final `ndvi_mosaic.tif`."
   ]
  }
 ],
 "metadata": {
  "colab": {
   "name": "combined_rename_mosaic.ipynb"
  },
  "kernelspec": {
   "display_name": "Python 3",
   "name": "python3"
  }
 },
 "nbformat": 4,
 "nbformat_minor": 0
}
