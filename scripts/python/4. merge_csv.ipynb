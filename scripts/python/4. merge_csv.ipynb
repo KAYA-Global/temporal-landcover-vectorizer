{
 "cells": [
  {
   "cell_type": "markdown",
   "metadata": {
    "colab_type": "text",
    "id": "view-in-github"
   },
   "source": [
    "<a href=\"https://colab.research.google.com/github/ulfboge/temporal-landcover-vectorizer/blob/main/scripts/python/merge_ndvi_csv.ipynb\" target=\"_parent\"><img src=\"https://colab.research.google.com/assets/colab-badge.svg\" alt=\"Open In Colab\"/></a>"
   ]
  },
  {
   "cell_type": "markdown",
   "metadata": {
    "id": "intro"
   },
   "source": [
    "# NDVI CSV Merger Tool\n",
    "\n",
    "This notebook merges multiple NDVI CSV files from different years into consolidated files by area. It processes temporal NDVI data and creates comprehensive time-series datasets.\n",
    "\n",
    "## Features:\n",
    "- Merges NDVI data from multiple years (2013-2023)\n",
    "- Processes multiple areas simultaneously\n",
    "- Maintains spatial coordinates and pixel IDs\n",
    "- Creates organized output files by area\n",
    "\n",
    "## Input Format:\n",
    "Files should follow the naming convention:\n",
    "- `NDVI_Annual_YYYY_Area_X_vectorized.csv`\n",
    "  - YYYY: Year (e.g., 2013, 2015, etc.)\n",
    "  - X: Area number\n",
    "\n",
    "## Output Format:\n",
    "- `NDVI_Merged_Area_X.csv`\n",
    "  - Contains columns: pixel_id, x_coord, y_coord, y2013, y2015, y2017, y2019, y2021, y2023\n",
    "\n",
    "## Setup\n",
    "First, let's mount Google Drive and install required packages."
   ]
  },
  {
   "cell_type": "code",
   "execution_count": null,
   "metadata": {
    "id": "mount_drive"
   },
   "outputs": [],
   "source": [
    "from google.colab import drive\n",
    "drive.mount('/content/drive')"
   ]
  },
  {
   "cell_type": "markdown",
   "metadata": {
    "id": "import_section"
   },
   "source": [
    "## Import Libraries and Set Up Directories"
   ]
  },
  {
   "cell_type": "code",
   "execution_count": null,
   "metadata": {
    "id": "setup"
   },
   "outputs": [],
   "source": [
    "# Import required libraries\n",
    "import os\n",
    "import glob\n",
    "import pandas as pd\n",
    "\n",
    "# Define Base Directories\n",
    "base_directory = \"/content/drive/MyDrive/earthengine/conversion\"\n",
    "csv_folder = os.path.join(base_directory, \"csv\")\n",
    "output_folder = os.path.join(csv_folder, \"merged\")\n",
    "\n",
    "# Create output directory\n",
    "os.makedirs(output_folder, exist_ok=True)\n",
    "print(f\"Created output directory: {output_folder}\")"
   ]
  },
  {
   "cell_type": "markdown",
   "metadata": {
    "id": "find_files"
   },
   "source": [
    "## Find and List CSV Files"
   ]
  },
  {
   "cell_type": "code",
   "execution_count": null,
   "metadata": {
    "id": "list_files"
   },
   "outputs": [],
   "source": [
    "# Get all CSV files\n",
    "csv_files = glob.glob(os.path.join(csv_folder, '*.csv'))\n",
    "\n",
    "if not csv_files:\n",
    "    raise FileNotFoundError(f\"No CSV files found in '{csv_folder}'.\")\n",
    "\n",
    "print(\"Found the following CSV files:\")\n",
    "for file in csv_files:\n",
    "    print(f\"  - {os.path.basename(file)}\")"
   ]
  },
  {
   "cell_type": "markdown",
   "metadata": {
    "id": "process_section"
   },
   "source": [
    "## Process and Merge CSV Files"
   ]
  },
  {
   "cell_type": "code",
   "execution_count": null,
   "metadata": {
    "id": "process_files"
   },
   "outputs": [],
   "source": [
    "# Dictionary to store dataframes by area\n",
    "area_data = {}\n",
    "\n",
    "# Process each CSV file\n",
    "for file in csv_files:\n",
    "    filename = os.path.basename(file)\n",
    "    parts = filename.split('_')\n",
    "    \n",
    "    # Skip files that don't match expected pattern\n",
    "    if len(parts) < 5 or not parts[2].isdigit():\n",
    "        print(f\"Skipping file with invalid format: {filename}\")\n",
    "        continue\n",
    "\n",
    "    year = parts[2]  # Extract year\n",
    "    area = parts[4]  # Extract area number\n",
    "    \n",
    "    print(f\"Processing: Year {year}, Area {area}\")\n",
    "    \n",
    "    try:\n",
    "        # Read CSV and rename year column\n",
    "        df = pd.read_csv(file)\n",
    "        df = df.rename(columns={'y2013': f'y{year}'})\n",
    "        \n",
    "        # Initialize or merge with existing area data\n",
    "        if area not in area_data:\n",
    "            area_data[area] = df[['pixel_id', 'x_coord', 'y_coord', f'y{year}']]\n",
    "        else:\n",
    "            area_data[area] = area_data[area].merge(\n",
    "                df[['pixel_id', f'y{year}']], \n",
    "                on='pixel_id', \n",
    "                how='outer'\n",
    "            )\n",
    "            \n",
    "    except Exception as e:\n",
    "        print(f\"Error processing {filename}: {str(e)}\")\n",
    "        continue"
   ]
  },
  {
   "cell_type": "markdown",
   "metadata": {
    "id": "save_section"
   },
   "source": [
    "## Save Merged Results"
   ]
  },
  {
   "cell_type": "code",
   "execution_count": null,
   "metadata": {
    "id": "save_results"
   },
   "outputs": [],
   "source": [
    "# Save merged data for each area\n",
    "for area, df in area_data.items():\n",
    "    try:\n",
    "        output_file = os.path.join(output_folder, f'NDVI_Merged_Area_{area}.csv')\n",
    "        df.to_csv(output_file, index=False)\n",
    "        print(f'Successfully saved: {os.path.basename(output_file)}')\n",
    "        print(f'  - Shape: {df.shape}')\n",
    "        print(f'  - Columns: {\", \".join(df.columns)}')\n",
    "    except Exception as e:\n",
    "        print(f\"Error saving Area {area}: {str(e)}\")\n",
    "\n",
    "print(\"\\nProcessing complete! Check the 'merged' folder for results.\")"
   ]
  },
  {
   "cell_type": "markdown",
   "metadata": {
    "id": "results_section"
   },
   "source": [
    "## Results\n",
    "\n",
    "The script has created merged CSV files in your Google Drive:\n",
    "```\n",
    "/content/drive/MyDrive/earthengine/conversion/csv/merged/\n",
    "    ├── NDVI_Merged_Area_1.csv\n",
    "    ├── NDVI_Merged_Area_2.csv\n",
    "    └── ...\n",
    "```\n",
    "\n",
    "Each merged file contains:\n",
    "- Spatial coordinates (x_coord, y_coord)\n",
    "- Pixel identifiers (pixel_id)\n",
    "- NDVI values for all available years (y2013 through y2023)\n",
    "\n",
    "You can now use these merged files for temporal analysis of NDVI changes across different areas."
   ]
  }
 ],
 "metadata": {
  "colab": {
   "provenance": []
  },
  "kernelspec": {
   "display_name": "Python 3",
   "language": "python",
   "name": "python3"
  },
  "language_info": {
   "name": "python"
  }
 },
 "nbformat": 4,
 "nbformat_minor": 0
}
