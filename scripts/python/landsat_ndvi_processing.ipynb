{
    "cells": [
        {
            "cell_type": "markdown",
            "metadata": {},
            "source": [
                "[![Open in Colab](https://colab.research.google.com/assets/colab-badge.svg)](https://colab.research.google.com/)\n",
                "\n",
                "# Median NDVI Calculation Script\n",
                "\n",
                "This script calculates the median NDVI for a given region and years of interest, based on Landsat 8 imagery (or you can adjust it for Sentinel-2). It then exports the results to your Google Drive."
            ]
        },
        {
            "cell_type": "code",
            "execution_count": null,
            "metadata": {},
            "outputs": [],
            "source": [
                "import ee\n",
                "import folium"
            ]
        },
        {
            "cell_type": "code",
            "execution_count": null,
            "metadata": {},
            "outputs": [],
            "source": [
                "# Authenticate and initialize Earth Engine\n",
                "ee.Authenticate()\n",
                "ee.Initialize()"
            ]
        },
        {
            "cell_type": "code",
            "execution_count": null,
            "metadata": {},
            "outputs": [],
            "source": [
                "# Define the region of interest from your asset.\n",
                "roi = ee.FeatureCollection('projects/ee-komba/assets/bbox_wirong')\n",
                "\n",
                "# Define the years of interest.\n",
                "years = [2013, 2015, 2017, 2019, 2021, 2023]\n",
                "\n",
                "# Define the date range for April-June.\n",
                "start_month = '04-01'\n",
                "end_month = '06-30'"
            ]
        },
        {
            "cell_type": "code",
            "execution_count": null,
            "metadata": {},
            "outputs": [],
            "source": [
                "# Function to calculate median NDVI for a given year.\n",
                "def calculate_median_ndvi(year):\n",
                "    start_date = ee.Date.fromYMD(year, 4, 1)\n",
                "    end_date = ee.Date.fromYMD(year, 6, 30)\n",
                "\n",
                "    # Load Landsat 8 OLI Surface Reflectance.\n",
                "    collection = ee.ImageCollection('LANDSAT/LC08/C02/T1_L2') \\\n",
                "        .filterBounds(roi) \\\n",
                "        .filterDate(start_date, end_date) \\\n",
                "        .map(lambda image: image.normalizedDifference(['SR_B5', 'SR_B4']).rename('NDVI')) \\\n",
                "        .select('NDVI')\n",
                "\n",
                "    # Calculate the median NDVI.\n",
                "    median_ndvi = collection.median()\n",
                "\n",
                "    # Clip to the region of interest.\n",
                "    median_ndvi = median_ndvi.clip(roi)\n",
                "\n",
                "    # Export the image to Google Drive\n",
                "    export_task = ee.batch.Export.image.toDrive(\n",
                "        image=median_ndvi,\n",
                "        description=f'Median_NDVI_{year}',\n",
                "        folder='NDVI_Results',  # This folder will be created in your Google Drive\n",
                "        fileNamePrefix=f'median_NDVI_{year}',\n",
                "        region=roi.geometry(),\n",
                "        scale=100,  # 100m scale as requested\n",
                "        maxPixels=1e13,\n",
                "        fileFormat='GeoTIFF'\n",
                "    )\n",
                "\n",
                "    export_task.start()\n",
                "\n",
                "    return median_ndvi.set('year', year)  # Return the image with year property."
            ]
        },
        {
            "cell_type": "code",
            "execution_count": null,
            "metadata": {},
            "outputs": [],
            "source": [
                "# Map the function over the years and get a list of images.\n",
                "median_ndvi_images = [calculate_median_ndvi(year) for year in years]"
            ]
        },
        {
            "cell_type": "code",
            "execution_count": null,
            "metadata": {},
            "outputs": [],
            "source": [
                "# Initialize the map centered on the region of interest.\n",
                "my_map = folium.Map(location=[-7.7, 15.4], zoom_start=7)  # Adjust center to your AOI\n",
                "\n",
                "# Add each year's median NDVI to the map.\n",
                "for image in median_ndvi_images:\n",
                "    year = image.get('year').getInfo()\n",
                "    vis_params = {\n",
                "        'min': -1, 'max': 1, 'palette': ['blue', 'white', 'green']\n",
                "    }\n",
                "    url = image.getMapId(vis_params)['tile_fetcher'].url_format\n",
                "    folium.TileLayer(tiles=url, attr=f'Median NDVI {year}').add_to(my_map)\n",
                "\n",
                "# Display the map.\n",
                "my_map"
            ]
        }
    ],
    "metadata": {
        "kernelspec": {
            "display_name": "Python 3",
            "language": "python",
            "name": "python3"
        },
        "language_info": {
            "codemirror_mode": {
                "name": "ipython",
                "version": 3
            },
            "file_extension": ".py",
            "mimetype": "text/x-python",
            "name": "python",
            "nbconvert_exporter": "python",
            "pygments_lexer": "ipython3",
            "version": "3.8.0"
        }
    },
    "nbformat": 4,
    "nbformat_minor": 4
}
