{
  "cells": [
    {
      "cell_type": "markdown",
      "metadata": {
        "id": "view-in-github",
        "colab_type": "text"
      },
      "source": [
        "<a href=\"https://colab.research.google.com/github/ulfboge/temporal-landcover-vectorizer/blob/main/combine_rasters_colab.ipynb\" target=\"_parent\"><img src=\"https://colab.research.google.com/assets/colab-badge.svg\" alt=\"Open In Colab\"/></a>"
      ]
    },
    {
      "cell_type": "markdown",
      "id": "98da3525",
      "metadata": {
        "id": "98da3525"
      },
      "source": [
        "# Combine Rasters in Google Colab\n",
        "This notebook combines raster files by area with each year's data placed in separate bands. The script automatically detects .tif files in the specified directory."
      ]
    },
    {
      "cell_type": "code",
      "source": [
        "from google.colab import drive\n",
        "drive.mount('/content/drive')"
      ],
      "metadata": {
        "id": "F65OMbkEd4E6"
      },
      "id": "F65OMbkEd4E6",
      "execution_count": null,
      "outputs": []
    },
    {
      "cell_type": "code",
      "execution_count": null,
      "id": "79cf10f5",
      "metadata": {
        "collapsed": true,
        "id": "79cf10f5"
      },
      "outputs": [],
      "source": [
        "# Install GDAL in Google Colab\n",
        "%%capture\n",
        "!apt-get install -y gdal-bin python3-gdal python3-rasterio\n",
        "!pip install gdal"
      ]
    },
    {
      "cell_type": "code",
      "execution_count": null,
      "id": "f7bc5d9f",
      "metadata": {
        "id": "f7bc5d9f"
      },
      "outputs": [],
      "source": [
        "import os\n",
        "from osgeo import gdal\n",
        "from google.colab import files\n",
        "\n",
        "# Create directories\n",
        "data_dir = \"/content/drive/MyDrive/earthengine\"\n",
        "output_folder = \"/content/drive/MyDrive/NDFI_Combined\"\n",
        "os.makedirs(data_dir, exist_ok=True)\n",
        "os.makedirs(output_folder, exist_ok=True)"
      ]
    },
    {
      "cell_type": "code",
      "source": [
        "# Find and process raster files in data_dir\n",
        "raster_files = [f for f in os.listdir(data_dir) if f.endswith('.tif')]\n",
        "\n",
        "if not raster_files:\n",
        "    print(f\"No .tif files found in {data_dir}\")\n",
        "else:\n",
        "    print(f\"Found {len(raster_files)} raster files in {data_dir}:\")\n",
        "    for file in raster_files:\n",
        "        print(f\"  - {file}\")"
      ],
      "metadata": {
        "id": "-tETsB7GftSl"
      },
      "id": "-tETsB7GftSl",
      "execution_count": null,
      "outputs": []
    },
    {
      "cell_type": "code",
      "source": [
        "# Group files by area\n",
        "area_files = {}\n",
        "for raster in raster_files:\n",
        "    try:\n",
        "        parts = raster.split(\"_\")\n",
        "        year = parts[2]  # Extract year\n",
        "        area_id = parts[-1].replace(\".tif\", \"\")  # Extract area ID\n",
        "        if area_id not in area_files:\n",
        "            area_files[area_id] = []\n",
        "        area_files[area_id].append((year, raster))\n",
        "    except IndexError:\n",
        "        print(f\"Warning: File {raster} does not match expected naming pattern\")\n",
        "        continue\n",
        "\n",
        "print(f\"\\nGrouped files by {len(area_files)} areas\")"
      ],
      "metadata": {
        "id": "8FtKZ9Rohn6u"
      },
      "id": "8FtKZ9Rohn6u",
      "execution_count": null,
      "outputs": []
    },
    {
      "cell_type": "code",
      "execution_count": null,
      "id": "df8bd8d9",
      "metadata": {
        "id": "df8bd8d9",
        "collapsed": true
      },
      "outputs": [],
      "source": [
        "# Process each area\n",
        "for area_id, files in area_files.items():\n",
        "    print(f\"\\nProcessing area {area_id}...\")\n",
        "    \n",
        "    # Sort files by year\n",
        "    files.sort(key=lambda x: x[0])\n",
        "    print(f\"Years included: {[f[0] for f in files]}\")\n",
        "\n",
        "    # Get full file paths\n",
        "    file_paths = [os.path.join(data_dir, f[1]) for f in files]\n",
        "\n",
        "    # Open raster datasets\n",
        "    datasets = [gdal.Open(fp) for fp in file_paths]\n",
        "\n",
        "    # Check if any dataset is None\n",
        "    if any(ds is None for ds in datasets):\n",
        "        print(f\"Error: Could not open one or more raster files for area {area_id}.\")\n",
        "        print(\"File paths:\")\n",
        "        for fp in file_paths:\n",
        "            print(f\"  - {fp}\")\n",
        "        continue  # Skip to the next area\n",
        "\n",
        "    # Get raster dimensions and projection\n",
        "    cols = datasets[0].RasterXSize\n",
        "    rows = datasets[0].RasterYSize\n",
        "    projection = datasets[0].GetProjection()\n",
        "    geotransform = datasets[0].GetGeoTransform()\n",
        "\n",
        "    # Create output file\n",
        "    output_file = os.path.join(output_folder, f\"Combined_Area_{area_id}.tif\")\n",
        "    driver = gdal.GetDriverByName('GTiff')\n",
        "    out_ds = driver.Create(output_file, cols, rows, len(datasets), gdal.GDT_Float32)\n",
        "    out_ds.SetProjection(projection)\n",
        "    out_ds.SetGeoTransform(geotransform)\n",
        "\n",
        "    # Write each year's data to a separate band\n",
        "    for i, (year, _) in enumerate(files):\n",
        "        out_band = out_ds.GetRasterBand(i + 1)\n",
        "        data = datasets[i].GetRasterBand(1).ReadAsArray()\n",
        "        out_band.WriteArray(data)\n",
        "        out_band.SetNoDataValue(-9999)\n",
        "        print(f\"  Added year {year} to band {i + 1}\")\n",
        "\n",
        "    # Close datasets\n",
        "    out_ds = None\n",
        "    for ds in datasets:\n",
        "        ds = None\n",
        "\n",
        "    print(f\"Created combined raster: {output_file}\")\n",
        "\n",
        "print(f\"\\nAll areas processed. Results saved to {output_folder}\")"
      ]
    },
    {
      "cell_type": "code",
      "execution_count": null,
      "id": "6cb7f3db",
      "metadata": {
        "id": "6cb7f3db"
      },
      "outputs": [],
      "source": [
        "# Zip and download the combined files\n",
        "!zip -r /content/NDFI_Combined.zip /content/NDFI_Combined\n",
        "files.download('/content/NDFI_Combined.zip')"
      ]
    }
  ],
  "metadata": {
    "colab": {
      "provenance": [],
      "include_colab_link": true
    },
    "language_info": {
      "name": "python"
    },
    "kernelspec": {
      "name": "python3",
      "display_name": "Python 3"
    }
  },
  "nbformat": 4,
  "nbformat_minor": 5
}
