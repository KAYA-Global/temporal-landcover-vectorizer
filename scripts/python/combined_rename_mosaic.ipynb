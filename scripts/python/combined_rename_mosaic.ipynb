{
  "cells": [
    {
      "cell_type": "markdown",
      "metadata": {
        "id": "view-in-github",
        "colab_type": "text"
      },
      "source": [
        "<a href=\"https://colab.research.google.com/github/ulfboge/temporal-landcover-vectorizer/blob/main/scripts/python/combined_rename_mosaic.ipynb\" target=\"_parent\"><img src=\"https://colab.research.google.com/assets/colab-badge.svg\" alt=\"Open In Colab\"/></a>"
      ]
    },
    {
      "cell_type": "markdown",
      "metadata": {
        "id": "8moaEJk5Ccj5"
      },
      "source": [
        "# Combine and Process NDVI Rasters\n",
        "\n",
        "This notebook performs two main operations:\n",
        "1. Combines multiple single-band raster files into multi-band files by area\n",
        "2. Renames the bands according to their corresponding years\n",
        "\n",
        "## Setup\n",
        "First, we'll mount Google Drive and install required packages."
      ]
    },
    {
      "cell_type": "code",
      "execution_count": 8,
      "metadata": {
        "colab": {
          "base_uri": "https://localhost:8080/"
        },
        "id": "q9EaKE2VCcj6",
        "outputId": "6a4b9f8e-8e62-48ac-ffd7-d2f57454eef4"
      },
      "outputs": [
        {
          "output_type": "stream",
          "name": "stdout",
          "text": [
            "Drive already mounted at /content/drive; to attempt to forcibly remount, call drive.mount(\"/content/drive\", force_remount=True).\n"
          ]
        }
      ],
      "source": [
        "from google.colab import drive\n",
        "drive.mount('/content/drive')"
      ]
    },
    {
      "cell_type": "code",
      "source": [
        "# Install required packages with specific versions\n",
        "%%capture\n",
        "!apt-get update\n",
        "!apt-get install -y gdal-bin python3-gdal\n",
        "!pip uninstall -y numpy  # Remove existing numpy\n",
        "!pip install numpy==1.24.3  # Install compatible numpy version\n",
        "!pip install rasterio==1.3.9 gdal==3.4.3"
      ],
      "metadata": {
        "id": "Ihd8ghiXEe1E"
      },
      "execution_count": 9,
      "outputs": []
    },
    {
      "cell_type": "markdown",
      "metadata": {
        "id": "XI6D2tVQCcj6"
      },
      "source": [
        "## Import Libraries and Set Up Directories"
      ]
    },
    {
      "cell_type": "code",
      "execution_count": 10,
      "metadata": {
        "colab": {
          "base_uri": "https://localhost:8080/"
        },
        "id": "2g2ehgb3Ccj6",
        "outputId": "5e33a111-b502-4d0e-90e4-42bd0db72430"
      },
      "outputs": [
        {
          "output_type": "stream",
          "name": "stdout",
          "text": [
            "Input directory: /content/drive/MyDrive/earthengine/ndfi\n",
            "Output directory: /content/drive/MyDrive/earthengine/ndfi/ndfi_combined\n"
          ]
        }
      ],
      "source": [
        "import os\n",
        "import rasterio\n",
        "import numpy as np\n",
        "from pathlib import Path\n",
        "from osgeo import gdal\n",
        "\n",
        "# Set up directories\n",
        "input_dir = \"/content/drive/MyDrive/earthengine/ndfi\"\n",
        "intermediate_dir = os.path.join(input_dir, \"ndfi_combined\")  # Create output folder within input_dir\n",
        "os.makedirs(input_dir, exist_ok=True)\n",
        "os.makedirs(intermediate_dir, exist_ok=True)\n",
        "\n",
        "print(f\"Input directory: {input_dir}\")\n",
        "print(f\"Output directory: {intermediate_dir}\")"
      ]
    },
    {
      "cell_type": "markdown",
      "metadata": {
        "id": "s7hIHMu-Ccj7"
      },
      "source": [
        "## Step 1: Find and Group Raster Files"
      ]
    },
    {
      "cell_type": "code",
      "execution_count": 11,
      "metadata": {
        "colab": {
          "base_uri": "https://localhost:8080/"
        },
        "id": "1pMZz53SCcj7",
        "outputId": "d16273e3-222f-4f7d-d067-d120ff064ccb"
      },
      "outputs": [
        {
          "output_type": "stream",
          "name": "stdout",
          "text": [
            "Found 24 raster files in /content/drive/MyDrive/earthengine/ndfi:\n",
            "  - NDFI_Masked_2013_Area_5.tif\n",
            "  - NDFI_Masked_2015_Area_5.tif\n",
            "  - NDFI_Masked_2017_Area_5.tif\n",
            "  - NDFI_Masked_2019_Area_5.tif\n",
            "  - NDFI_Masked_2021_Area_5.tif\n",
            "  - NDFI_Masked_2023_Area_5.tif\n",
            "  - NDFI_Masked_2013_Area_6.tif\n",
            "  - NDFI_Masked_2015_Area_6.tif\n",
            "  - NDFI_Masked_2017_Area_6.tif\n",
            "  - NDFI_Masked_2019_Area_6.tif\n",
            "  - NDFI_Masked_2021_Area_6.tif\n",
            "  - NDFI_Masked_2023_Area_6.tif\n",
            "  - NDFI_Masked_2015_Area_7.tif\n",
            "  - NDFI_Masked_2017_Area_7.tif\n",
            "  - NDFI_Masked_2021_Area_7.tif\n",
            "  - NDFI_Masked_2019_Area_7.tif\n",
            "  - NDFI_Masked_2013_Area_7.tif\n",
            "  - NDFI_Masked_2013_Area_8.tif\n",
            "  - NDFI_Masked_2023_Area_7.tif\n",
            "  - NDFI_Masked_2015_Area_8.tif\n",
            "  - NDFI_Masked_2019_Area_8.tif\n",
            "  - NDFI_Masked_2017_Area_8.tif\n",
            "  - NDFI_Masked_2021_Area_8.tif\n",
            "  - NDFI_Masked_2023_Area_8.tif\n"
          ]
        }
      ],
      "source": [
        "# Find and process raster files\n",
        "raster_files = [f for f in os.listdir(input_dir) if f.endswith('.tif')]\n",
        "\n",
        "if not raster_files:\n",
        "    print(f\"No .tif files found in {input_dir}\")\n",
        "else:\n",
        "    print(f\"Found {len(raster_files)} raster files in {input_dir}:\")\n",
        "    for file in raster_files:\n",
        "        print(f\"  - {file}\")"
      ]
    },
    {
      "cell_type": "code",
      "execution_count": 12,
      "metadata": {
        "colab": {
          "base_uri": "https://localhost:8080/"
        },
        "id": "jjRHpt6kCcj7",
        "outputId": "008bd95a-d01c-4f65-c9c8-6f4d8f11524d"
      },
      "outputs": [
        {
          "output_type": "stream",
          "name": "stdout",
          "text": [
            "\n",
            "Grouped files by 4 areas\n"
          ]
        }
      ],
      "source": [
        "# Group files by area\n",
        "area_files = {}\n",
        "for raster in raster_files:\n",
        "    try:\n",
        "        parts = raster.split(\"_\")\n",
        "        year = parts[2]\n",
        "        area_id = parts[-1].replace(\".tif\", \"\")\n",
        "        if area_id not in area_files:\n",
        "            area_files[area_id] = []\n",
        "        area_files[area_id].append((year, raster))\n",
        "    except IndexError:\n",
        "        print(f\"Warning: File {raster} does not match expected naming pattern\")\n",
        "        continue\n",
        "\n",
        "print(f\"\\nGrouped files by {len(area_files)} areas\")"
      ]
    },
    {
      "cell_type": "markdown",
      "metadata": {
        "id": "mCctqNKWCcj7"
      },
      "source": [
        "## Step 2: Combine Rasters by Area"
      ]
    },
    {
      "cell_type": "code",
      "execution_count": 13,
      "metadata": {
        "colab": {
          "base_uri": "https://localhost:8080/"
        },
        "id": "rviMya6YCcj7",
        "outputId": "14d23eb5-41e0-4824-9c75-598afe283e83"
      },
      "outputs": [
        {
          "output_type": "stream",
          "name": "stdout",
          "text": [
            "\n",
            "Processing area 5...\n",
            "Years included: ['2013', '2015', '2017', '2019', '2021', '2023']\n",
            "  Added year 2013 to band 1\n",
            "  Added year 2015 to band 2\n",
            "  Added year 2017 to band 3\n",
            "  Added year 2019 to band 4\n",
            "  Added year 2021 to band 5\n",
            "  Added year 2023 to band 6\n",
            "Created combined raster: /content/drive/MyDrive/earthengine/ndfi/ndfi_combined/Combined_Area_5.tif\n",
            "\n",
            "Processing area 6...\n",
            "Years included: ['2013', '2015', '2017', '2019', '2021', '2023']\n",
            "  Added year 2013 to band 1\n",
            "  Added year 2015 to band 2\n",
            "  Added year 2017 to band 3\n",
            "  Added year 2019 to band 4\n",
            "  Added year 2021 to band 5\n",
            "  Added year 2023 to band 6\n",
            "Created combined raster: /content/drive/MyDrive/earthengine/ndfi/ndfi_combined/Combined_Area_6.tif\n",
            "\n",
            "Processing area 7...\n",
            "Years included: ['2013', '2015', '2017', '2019', '2021', '2023']\n",
            "  Added year 2013 to band 1\n",
            "  Added year 2015 to band 2\n",
            "  Added year 2017 to band 3\n",
            "  Added year 2019 to band 4\n",
            "  Added year 2021 to band 5\n",
            "  Added year 2023 to band 6\n",
            "Created combined raster: /content/drive/MyDrive/earthengine/ndfi/ndfi_combined/Combined_Area_7.tif\n",
            "\n",
            "Processing area 8...\n",
            "Years included: ['2013', '2015', '2017', '2019', '2021', '2023']\n",
            "  Added year 2013 to band 1\n",
            "  Added year 2015 to band 2\n",
            "  Added year 2017 to band 3\n",
            "  Added year 2019 to band 4\n",
            "  Added year 2021 to band 5\n",
            "  Added year 2023 to band 6\n",
            "Created combined raster: /content/drive/MyDrive/earthengine/ndfi/ndfi_combined/Combined_Area_8.tif\n"
          ]
        }
      ],
      "source": [
        "# Process each area\n",
        "for area_id, files in area_files.items():\n",
        "    print(f\"\\nProcessing area {area_id}...\")\n",
        "\n",
        "    # Sort files by year\n",
        "    files.sort(key=lambda x: x[0])\n",
        "    print(f\"Years included: {[f[0] for f in files]}\")\n",
        "\n",
        "    # Get full file paths\n",
        "    file_paths = [os.path.join(input_dir, f[1]) for f in files]\n",
        "\n",
        "    # Open raster datasets\n",
        "    datasets = [gdal.Open(fp) for fp in file_paths]\n",
        "\n",
        "    if any(ds is None for ds in datasets):\n",
        "        print(f\"Error: Could not open one or more raster files for area {area_id}.\")\n",
        "        continue\n",
        "\n",
        "    # Create combined raster\n",
        "    cols = datasets[0].RasterXSize\n",
        "    rows = datasets[0].RasterYSize\n",
        "    output_file = os.path.join(intermediate_dir, f\"Combined_Area_{area_id}.tif\")\n",
        "    driver = gdal.GetDriverByName('GTiff')\n",
        "    out_ds = driver.Create(output_file, cols, rows, len(datasets), gdal.GDT_Float32)\n",
        "    out_ds.SetProjection(datasets[0].GetProjection())\n",
        "    out_ds.SetGeoTransform(datasets[0].GetGeoTransform())\n",
        "\n",
        "    # Write each year's data\n",
        "    for i, (year, _) in enumerate(files):\n",
        "        out_band = out_ds.GetRasterBand(i + 1)\n",
        "        data = datasets[i].GetRasterBand(1).ReadAsArray()\n",
        "        out_band.WriteArray(data)\n",
        "        out_band.SetNoDataValue(-9999)\n",
        "        print(f\"  Added year {year} to band {i + 1}\")\n",
        "\n",
        "    # Close datasets\n",
        "    out_ds = None\n",
        "    for ds in datasets:\n",
        "        ds = None\n",
        "\n",
        "    print(f\"Created combined raster: {output_file}\")"
      ]
    },
    {
      "cell_type": "markdown",
      "metadata": {
        "id": "Y4S00_hDCcj7"
      },
      "source": [
        "## Step 3: Rename Bands"
      ]
    },
    {
      "cell_type": "code",
      "execution_count": null,
      "metadata": {
        "id": "XaGontA7Ccj7"
      },
      "outputs": [],
      "source": [
        "print(\"\\nRenaming bands in combined files...\")\n",
        "\n",
        "# New band names\n",
        "new_band_names = ['2013', '2015', '2017', '2019', '2021', '2023']\n",
        "\n",
        "# Get all .tif files in the intermediate directory\n",
        "tif_files = list(Path(intermediate_dir).glob('*.tif'))\n",
        "\n",
        "for tif_path in tif_files:\n",
        "    # Open the file and update band names\n",
        "    with rasterio.open(tif_path) as src:\n",
        "        meta = src.meta.copy()\n",
        "        data = src.read()\n",
        "\n",
        "        # Create a new raster file with renamed bands\n",
        "        with rasterio.open(tif_path, 'w', **meta) as dst:\n",
        "            dst.write(data)\n",
        "\n",
        "            # Update band descriptions\n",
        "            for i, band_name in enumerate(new_band_names, start=1):\n",
        "                dst.set_band_description(i, band_name)\n",
        "\n",
        "        print(f\"Updated band names for: {tif_path.name}\")\n",
        "\n",
        "print(\"\\nAll processing completed successfully!\")"
      ]
    },
    {
      "cell_type": "markdown",
      "metadata": {
        "id": "ySFZ_vBkCcj7"
      },
      "source": [
        "## Optional: Download Results\n",
        "\n",
        "If you want to download the combined files, run the following cell:"
      ]
    },
    {
      "cell_type": "code",
      "execution_count": null,
      "metadata": {
        "id": "8uODyvFuCcj8"
      },
      "outputs": [],
      "source": [
        "from google.colab import files\n",
        "\n",
        "# Zip and download the combined files\n",
        "!zip -r /content/biomass_Combined.zip \"{intermediate_dir}\"\n",
        "files.download('/content/biomass_Combined.zip')"
      ]
    }
  ],
  "metadata": {
    "colab": {
      "provenance": [],
      "include_colab_link": true
    },
    "kernelspec": {
      "display_name": "Python 3",
      "language": "python",
      "name": "python3"
    },
    "language_info": {
      "name": "python"
    }
  },
  "nbformat": 4,
  "nbformat_minor": 0
}