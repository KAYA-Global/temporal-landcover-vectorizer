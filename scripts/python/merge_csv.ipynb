{
  "cells": [
    {
      "cell_type": "markdown",
      "id": "8103aff2",
      "metadata": {
        "id": "8103aff2"
      },
      "source": [
        "<a href=\"https://colab.research.google.com/github/ulfboge/temporal-landcover-vectorizer/blob/main/scripts/python/raster_to_vector_with_csv.ipynb\" target=\"_parent\"><img src=\"https://colab.research.google.com/assets/colab-badge.svg\" alt=\"Open In Colab\"/></a>"
      ]
    },
    {
      "cell_type": "markdown",
      "id": "706db7f4",
      "metadata": {
        "id": "706db7f4"
      },
      "source": [
        "# **Merging NDVI CSV Files for Multiple Years**\n",
        "This Jupyter notebook processes CSV files containing NDVI data for multiple years and merges them into a single CSV file for each area. The final CSV files will have columns structured as follows:\n",
        "\n",
        "📌 **Columns:** `pixel_id`, `x_coord`, `y_coord`, `y2013`, `y2015`, `y2017`, `y2019`, `y2021`, `y2023`\n",
        "\n",
        "### **Workflow:**\n",
        "1. **Mount Google Drive** - Access the folder containing CSV files.\n",
        "2. **Identify and Read CSV Files** - Extract year and area from filenames.\n",
        "3. **Merge Data** - Combine yearly data into a single file for each area.\n",
        "4. **Save Output** - Store merged CSVs in a 'merged' folder in Google Drive.\n",
        "\n",
        "### **Expected Input File Naming Convention:**\n",
        "- `NDVI_Annual_2013_Area_5_vectorized.csv`\n",
        "- `NDVI_Annual_2015_Area_5_vectorized.csv`\n",
        "- `NDVI_Annual_2017_Area_6_vectorized.csv`\n",
        "\n",
        "### **Output Example:**\n",
        "- `NDVI_Merged_Area_5.csv`\n",
        "- `NDVI_Merged_Area_6.csv`\n",
        "\n",
        "🚀 **Run all cells to execute the process!**"
      ]
    },
    {
      "cell_type": "markdown",
      "id": "c6e2cfbe",
      "metadata": {
        "id": "c6e2cfbe"
      },
      "source": [
        "# **Merge NDVI CSVs for Each Area**\n",
        "This notebook merges NDVI CSV files for different areas and years into a single file per area.\n",
        "\n",
        "🔹 **Google Drive Mounting**\n",
        "🔹 **CSV File Merging**\n",
        "🔹 **Saving the Results**\n",
        "\n",
        "✅ **Run the cells below to execute the process!**"
      ]
    },
    {
      "cell_type": "code",
      "execution_count": null,
      "id": "017ba41b",
      "metadata": {
        "id": "017ba41b"
      },
      "outputs": [],
      "source": [
        "from google.colab import drive\n",
        "drive.mount('/content/drive')"
      ]
    },
    {
      "cell_type": "code",
      "execution_count": null,
      "id": "677d28d6",
      "metadata": {
        "id": "677d28d6"
      },
      "outputs": [],
      "source": [
        "# Import necessary libraries\n",
        "import os\n",
        "import glob\n",
        "import pandas as pd"
      ]
    },
    {
      "cell_type": "code",
      "execution_count": null,
      "id": "31ad6917",
      "metadata": {
        "id": "31ad6917"
      },
      "outputs": [],
      "source": [
        "# Set the folder containing the CSV files\n",
        "folder_path = '/content/drive/MyDrive/earthengine/conversion/csv'"
      ]
    },
    {
      "cell_type": "code",
      "execution_count": null,
      "id": "1de257f3",
      "metadata": {
        "id": "1de257f3"
      },
      "outputs": [],
      "source": [
        "# Get all CSV files\n",
        "csv_files = glob.glob(os.path.join(folder_path, '*.csv'))\n",
        "print(f'Found {len(csv_files)} CSV files.')"
      ]
    },
    {
      "cell_type": "code",
      "execution_count": null,
      "id": "f7692896",
      "metadata": {
        "id": "f7692896"
      },
      "outputs": [],
      "source": [
        "# Dictionary to store dataframes by area\n",
        "area_data = {}"
      ]
    },
    {
      "cell_type": "code",
      "execution_count": null,
      "id": "2da1d964",
      "metadata": {
        "id": "2da1d964"
      },
      "outputs": [],
      "source": [
        "# Process files\n",
        "for file in csv_files:\n",
        "    filename = os.path.basename(file)\n",
        "    parts = filename.split('_')\n",
        "    if len(parts) < 5:\n",
        "        continue  # Skip files that don't match expected pattern\n",
        "\n",
        "    year = parts[2]  # Extract year\n",
        "    area = parts[4]  # Extract area number\n",
        "\n",
        "    df = pd.read_csv(file)\n",
        "    df = df.rename(columns={'y2013': f'y{year}'})  # Rename year column\n",
        "\n",
        "    if area not in area_data:\n",
        "        area_data[area] = df[['pixel_id', 'x_coord', 'y_coord', f'y{year}']]\n",
        "    else:\n",
        "        area_data[area] = area_data[area].merge(df[['pixel_id', f'y{year}']], on='pixel_id', how='outer')"
      ]
    },
    {
      "cell_type": "code",
      "execution_count": null,
      "id": "cfc5ada3",
      "metadata": {
        "id": "cfc5ada3"
      },
      "outputs": [],
      "source": [
        "# Save merged data\n",
        "output_folder = os.path.join(folder_path, 'merged')\n",
        "os.makedirs(output_folder, exist_ok=True)\n",
        "\n",
        "for area, df in area_data.items():\n",
        "    output_file = os.path.join(output_folder, f'NDVI_Merged_Area_{area}.csv')\n",
        "    df.to_csv(output_file, index=False)\n",
        "    print(f'Saved: {output_file}')\n",
        "\n",
        "print(\"Merging complete!\")"
      ]
    }
  ],
  "metadata": {
    "colab": {
      "provenance": []
    },
    "language_info": {
      "name": "python"
    },
    "kernelspec": {
      "name": "python3",
      "display_name": "Python 3"
    }
  },
  "nbformat": 4,
  "nbformat_minor": 5
}