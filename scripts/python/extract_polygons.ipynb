{
 "cells": [
  {
   "cell_type": "markdown",
   "metadata": {},
   "source": [
    "# Polygon Extraction from Vector Layers\n",
    "\n",
    "[![Open In Colab](https://colab.research.google.com/assets/colab-badge.svg)](https://colab.research.google.com/github/YOUR_USERNAME/YOUR_REPO/blob/main/extract_polygons.ipynb)\n",
    "\n",
    "This notebook extracts polygons from multiple vector layers (shapefiles) based on spatial coordinates and saves them to a GeoPackage file. The process includes:\n",
    "\n",
    "1. Loading coordinates from a sampled data CSV file\n",
    "2. Converting coordinates to spatial points\n",
    "3. Extracting polygons that intersect with these points\n",
    "4. Saving results to a multi-layer GeoPackage file\n",
    "\n",
    "## Setup\n",
    "First, let's install the required packages and import libraries."
   ]
  },
  {
   "cell_type": "code",
   "execution_count": null,
   "metadata": {},
   "source": [
    "!pip install pandas geopandas shapely"
   ]
  },
  {
   "cell_type": "code",
   "execution_count": null,
   "metadata": {},
   "source": [
    "import pandas as pd\n",
    "import geopandas as gpd\n",
    "from pathlib import Path\n",
    "import os\n",
    "from shapely.geometry import Point\n",
    "import warnings\n",
    "warnings.filterwarnings('ignore')"
   ]
  },
  {
   "cell_type": "markdown",
   "metadata": {},
   "source": [
    "## Define Helper Functions\n",
    "\n",
    "### 1. Load Sampled Coordinates"
   ]
  },
  {
   "cell_type": "code",
   "execution_count": null,
   "metadata": {},
   "source": [
    "def load_sampled_coordinates(csv_path):\n",
    "    \"\"\"\n",
    "    Load the coordinates from the sampled data CSV file\n",
    "    Returns a DataFrame with unique coordinate pairs\n",
    "    \"\"\"\n",
    "    df = pd.read_csv(csv_path)\n",
    "    # Get unique coordinate pairs\n",
    "    coords_df = df[['x_coord', 'y_coord']].drop_duplicates()\n",
    "    return coords_df"
   ]
  },
  {
   "cell_type": "markdown",
   "metadata": {},
   "source": [
    "### 2. Create Points GeoDataFrame"
   ]
  },
  {
   "cell_type": "code",
   "execution_count": null,
   "metadata": {},
   "source": [
    "def create_points_gdf(coords_df, crs):\n",
    "    \"\"\"\n",
    "    Create a GeoDataFrame of points from coordinates\n",
    "    \"\"\"\n",
    "    geometry = [Point(xy) for xy in zip(coords_df['x_coord'], coords_df['y_coord'])]\n",
    "    return gpd.GeoDataFrame(coords_df, geometry=geometry, crs=crs)"
   ]
  },
  {
   "cell_type": "markdown",
   "metadata": {},
   "source": [
    "### 3. Extract Polygons Function"
   ]
  },
  {
   "cell_type": "code",
   "execution_count": null,
   "metadata": {},
   "source": [
    "def extract_polygons(points_gdf, shapefile_path, buffer_distance=0):\n",
    "    \"\"\"\n",
    "    Extract polygons that intersect with the points\n",
    "    Optional buffer_distance parameter to create a buffer around points\n",
    "    \"\"\"\n",
    "    # Read the shapefile\n",
    "    polygons_gdf = gpd.read_file(shapefile_path)\n",
    "    \n",
    "    # Ensure both GeoDataFrames have the same CRS\n",
    "    if points_gdf.crs != polygons_gdf.crs:\n",
    "        points_gdf = points_gdf.to_crs(polygons_gdf.crs)\n",
    "    \n",
    "    # If buffer_distance is specified, create buffer around points\n",
    "    if buffer_distance > 0:\n",
    "        points_buffered = points_gdf.geometry.buffer(buffer_distance)\n",
    "        # Spatial join between buffered points and polygons\n",
    "        intersecting_polygons = gpd.sjoin(polygons_gdf, \n",
    "                                        gpd.GeoDataFrame(geometry=points_buffered, crs=points_gdf.crs),\n",
    "                                        how='inner', \n",
    "                                        predicate='intersects')\n",
    "    else:\n",
    "        # Spatial join between points and polygons\n",
    "        intersecting_polygons = gpd.sjoin(polygons_gdf, \n",
    "                                        points_gdf,\n",
    "                                        how='inner', \n",
    "                                        predicate='contains')\n",
    "    \n",
    "    # Drop duplicate polygons and sjoin index\n",
    "    intersecting_polygons = intersecting_polygons.drop_duplicates()\n",
    "    if 'index_right' in intersecting_polygons.columns:\n",
    "        intersecting_polygons = intersecting_polygons.drop(columns=['index_right'])\n",
    "    \n",
    "    return intersecting_polygons"
   ]
  },
  {
   "cell_type": "markdown",
   "metadata": {},
   "source": [
    "## Main Processing\n",
    "\n",
    "Now let's set up the main processing workflow. Make sure you have:\n",
    "1. Your sampled coordinates CSV file in the working directory\n",
    "2. A 'shapefiles' directory containing your vector layers"
   ]
  },
  {
   "cell_type": "code",
   "execution_count": null,
   "metadata": {},
   "source": [
    "# Define paths\n",
    "sampled_data_path = \"sampled_data_with_coords.csv\"  # Path to your sampled coordinates CSV\n",
    "shapefile_dir = \"shapefiles\"  # Directory containing your shapefiles\n",
    "output_gpkg = \"extracted_polygons.gpkg\"  # Output GeoPackage file\n",
    "\n",
    "# Check if input files/directories exist\n",
    "if not os.path.exists(sampled_data_path):\n",
    "    raise FileNotFoundError(f\"Sampled data file not found: {sampled_data_path}\")\n",
    "if not os.path.exists(shapefile_dir):\n",
    "    raise FileNotFoundError(f\"Shapefile directory not found: {shapefile_dir}\")\n",
    "\n",
    "# Load coordinates\n",
    "coords_df = load_sampled_coordinates(sampled_data_path)\n",
    "print(f\"Loaded {len(coords_df)} unique coordinate pairs\")\n",
    "\n",
    "# Create points GeoDataFrame (assuming WGS 84 - EPSG:4326, adjust if different)\n",
    "points_gdf = create_points_gdf(coords_df, crs=\"EPSG:4326\")"
   ]
  },
  {
   "cell_type": "markdown",
   "metadata": {},
   "source": [
    "## Process Shapefiles and Save Results"
   ]
  },
  {
   "cell_type": "code",
   "execution_count": null,
   "metadata": {},
   "source": [
    "# Process each shapefile\n",
    "for shapefile in Path(shapefile_dir).glob(\"*.shp\"):\n",
    "    layer_name = shapefile.stem\n",
    "    print(f\"Processing {layer_name}\")\n",
    "    \n",
    "    try:\n",
    "        # Extract intersecting polygons\n",
    "        intersecting_polygons = extract_polygons(points_gdf, shapefile)\n",
    "        \n",
    "        # Save to GeoPackage\n",
    "        intersecting_polygons.to_file(output_gpkg, \n",
    "                                    layer=layer_name, \n",
    "                                    driver=\"GPKG\",\n",
    "                                    mode='a' if os.path.exists(output_gpkg) else 'w')\n",
    "        \n",
    "        print(f\"Saved {len(intersecting_polygons)} polygons for layer {layer_name}\")\n",
    "        \n",
    "    except Exception as e:\n",
    "        print(f\"Error processing {layer_name}: {str(e)}\")\n",
    "\n",
    "print(f\"\\nAll layers have been processed and saved to {output_gpkg}\")"
   ]
  }
 ],
 "metadata": {
  "kernelspec": {
   "display_name": "Python 3",
   "language": "python",
   "name": "python3"
  },
  "language_info": {
   "codemirror_mode": {
    "name": "ipython",
    "version": 3
   },
   "file_extension": ".py",
   "mimetype": "text/x-python",
   "name": "python",
   "nbconvert_exporter": "python",
   "pygments_lexer": "ipython3",
   "version": "3.8.0"
  }
 },
 "nbformat": 4,
 "nbformat_minor": 4
}
