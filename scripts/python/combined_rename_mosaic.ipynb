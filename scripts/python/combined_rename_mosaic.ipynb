{
 "cells": [
  {
   "cell_type": "markdown",
   "metadata": {
    "id": "view-in-github",
    "colab_type": "text"
   },
   "source": [
    "<a href=\"https://colab.research.google.com/github/your-repo/combine_rasters.ipynb\" target=\"_parent\"><img src=\"https://colab.research.google.com/assets/colab-badge.svg\" alt=\"Open In Colab\"/></a>"
   ]
  },
  {
   "cell_type": "markdown",
   "metadata": {},
   "source": [
    "# Combine and Process NDVI Rasters\n",
    "\n",
    "This notebook performs two main operations:\n",
    "1. Combines multiple single-band raster files into multi-band files by area\n",
    "2. Renames the bands according to their corresponding years\n",
    "\n",
    "## Setup\n",
    "First, we'll mount Google Drive and install required packages."
   ]
  },
  {
   "cell_type": "code",
   "execution_count": null,
   "metadata": {},
   "outputs": [],
   "source": [
    "from google.colab import drive\n",
    "drive.mount('/content/drive')"
   ]
  },
  {
   "cell_type": "code",
   "execution_count": null,
   "metadata": {},
   "outputs": [],
   "source": [
    "# Install required packages\n",
    "%%capture\n",
    "!apt-get install -y gdal-bin python3-gdal python3-rasterio\n",
    "!pip install gdal rasterio"
   ]
  },
  {
   "cell_type": "markdown",
   "metadata": {},
   "source": [
    "## Import Libraries and Set Up Directories"
   ]
  },
  {
   "cell_type": "code",
   "execution_count": null,
   "metadata": {},
   "outputs": [],
   "source": [
    "import os\n",
    "import rasterio\n",
    "import numpy as np\n",
    "from pathlib import Path\n",
    "from osgeo import gdal\n",
    "\n",
    "# Set up directories\n",
    "input_dir = \"/content/drive/MyDrive/earthengine/ndvi\"\n",
    "intermediate_dir = \"/content/drive/MyDrive/ndvi_combined\"\n",
    "os.makedirs(input_dir, exist_ok=True)\n",
    "os.makedirs(intermediate_dir, exist_ok=True)"
   ]
  },
  {
   "cell_type": "markdown",
   "metadata": {},
   "source": [
    "## Step 1: Find and Group Raster Files"
   ]
  },
  {
   "cell_type": "code",
   "execution_count": null,
   "metadata": {},
   "outputs": [],
   "source": [
    "# Find and process raster files\n",
    "raster_files = [f for f in os.listdir(input_dir) if f.endswith('.tif')]\n",
    "\n",
    "if not raster_files:\n",
    "    print(f\"No .tif files found in {input_dir}\")\n",
    "else:\n",
    "    print(f\"Found {len(raster_files)} raster files in {input_dir}:\")\n",
    "    for file in raster_files:\n",
    "        print(f\"  - {file}\")"
   ]
  },
  {
   "cell_type": "code",
   "execution_count": null,
   "metadata": {},
   "outputs": [],
   "source": [
    "# Group files by area\n",
    "area_files = {}\n",
    "for raster in raster_files:\n",
    "    try:\n",
    "        parts = raster.split(\"_\")\n",
    "        year = parts[2]\n",
    "        area_id = parts[-1].replace(\".tif\", \"\")\n",
    "        if area_id not in area_files:\n",
    "            area_files[area_id] = []\n",
    "        area_files[area_id].append((year, raster))\n",
    "    except IndexError:\n",
    "        print(f\"Warning: File {raster} does not match expected naming pattern\")\n",
    "        continue\n",
    "\n",
    "print(f\"\\nGrouped files by {len(area_files)} areas\")"
   ]
  },
  {
   "cell_type": "markdown",
   "metadata": {},
   "source": [
    "## Step 2: Combine Rasters by Area"
   ]
  },
  {
   "cell_type": "code",
   "execution_count": null,
   "metadata": {},
   "outputs": [],
   "source": [
    "# Process each area\n",
    "for area_id, files in area_files.items():\n",
    "    print(f\"\\nProcessing area {area_id}...\")\n",
    "    \n",
    "    # Sort files by year\n",
    "    files.sort(key=lambda x: x[0])\n",
    "    print(f\"Years included: {[f[0] for f in files]}\")\n",
    "    \n",
    "    # Get full file paths\n",
    "    file_paths = [os.path.join(input_dir, f[1]) for f in files]\n",
    "    \n",
    "    # Open raster datasets\n",
    "    datasets = [gdal.Open(fp) for fp in file_paths]\n",
    "    \n",
    "    if any(ds is None for ds in datasets):\n",
    "        print(f\"Error: Could not open one or more raster files for area {area_id}.\")\n",
    "        continue\n",
    "\n    # Create combined raster\n",
    "    cols = datasets[0].RasterXSize\n",
    "    rows = datasets[0].RasterYSize\n",
    "    output_file = os.path.join(intermediate_dir, f\"Combined_Area_{area_id}.tif\")\n",
    "    driver = gdal.GetDriverByName('GTiff')\n",
    "    out_ds = driver.Create(output_file, cols, rows, len(datasets), gdal.GDT_Float32)\n",
    "    out_ds.SetProjection(datasets[0].GetProjection())\n",
    "    out_ds.SetGeoTransform(datasets[0].GetGeoTransform())\n",
    "\n    # Write each year's data\n",
    "    for i, (year, _) in enumerate(files):\n",
    "        out_band = out_ds.GetRasterBand(i + 1)\n",
    "        data = datasets[i].GetRasterBand(1).ReadAsArray()\n",
    "        out_band.WriteArray(data)\n",
    "        out_band.SetNoDataValue(-9999)\n",
    "        print(f\"  Added year {year} to band {i + 1}\")\n",
    "\n    # Close datasets\n",
    "    out_ds = None\n",
    "    for ds in datasets:\n",
    "        ds = None\n",
    "\n    print(f\"Created combined raster: {output_file}\")"
   ]
  },
  {
   "cell_type": "markdown",
   "metadata": {},
   "source": [
    "## Step 3: Rename Bands"
   ]
  },
  {
   "cell_type": "code",
   "execution_count": null,
   "metadata": {},
   "outputs": [],
   "source": [
    "print(\"\\nRenaming bands in combined files...\")\n",
    "\n",
    "# New band names\n",
    "new_band_names = ['2013', '2015', '2017', '2019', '2021', '2023']\n",
    "\n",
    "# Get all .tif files in the intermediate directory\n",
    "tif_files = list(Path(intermediate_dir).glob('*.tif'))\n",
    "\n",
    "for tif_path in tif_files:\n",
    "    # Open the file and update band names\n",
    "    with rasterio.open(tif_path) as src:\n",
    "        meta = src.meta.copy()\n",
    "        data = src.read()\n",
    "\n        # Create a new raster file with renamed bands\n",
    "        with rasterio.open(tif_path, 'w', **meta) as dst:\n",
    "            dst.write(data)\n",
    "            \n",
    "            # Update band descriptions\n",
    "            for i, band_name in enumerate(new_band_names, start=1):\n",
    "                dst.set_band_description(i, band_name)\n",
    "\n        print(f\"Updated band names for: {tif_path.name}\")\n",
    "\n",
    "print(\"\\nAll processing completed successfully!\")"
   ]
  },
  {
   "cell_type": "markdown",
   "metadata": {},
   "source": [
    "## Optional: Download Results\n",
    "\n",
    "If you want to download the combined files, run the following cell:"
   ]
  },
  {
   "cell_type": "code",
   "execution_count": null,
   "metadata": {},
   "outputs": [],
   "source": [
    "from google.colab import files\n",
    "\n",
    "# Zip and download the combined files\n",
    "!zip -r /content/NDVI_Combined.zip \"{intermediate_dir}\"\n",
    "files.download('/content/NDVI_Combined.zip')"
   ]
  }
 ],
 "metadata": {
  "colab": {
   "provenance": [],
   "include_colab_link": true
  },
  "kernelspec": {
   "display_name": "Python 3",
   "language": "python",
   "name": "python3"
  },
  "language_info": {
   "name": "python"
  }
 },
 "nbformat": 4,
 "nbformat_minor": 0
}
