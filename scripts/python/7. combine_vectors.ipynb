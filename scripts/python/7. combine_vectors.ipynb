{
 "cells": [
  {
   "cell_type": "markdown",
   "metadata": {},
   "source": [
    "# NDVI Vector Data Processing\n",
    "\n",
    "[![Open In Colab](https://colab.research.google.com/assets/colab-badge.svg)](https://colab.research.google.com/github/YOUR_USERNAME/YOUR_REPO/blob/main/combine_ndvi_vectors.ipynb)\n",
    "\n",
    "This notebook processes NDVI vector files stored in Google Drive, combining data from multiple years (2013-2023) into single geopackage files per area.\n",
    "\n",
    "## Input Data Structure\n",
    "- Location: `/content/drive/MyDrive/earthengine/conversion/vector`\n",
    "- File naming pattern: `NDVI_JanMay_YYYY_Area_N_polygons` where:\n",
    "  - YYYY: Year (2013, 2015, 2017, 2019, 2021, 2023)\n",
    "  - N: Area number\n",
    "\n",
    "## Output\n",
    "- One geopackage (.gpkg) file per area\n",
    "- Combined attributes across all years\n",
    "- Output columns: fid, pixel_id, x_coord_left, y_coord_left, y2013, y2015, y2017, y2019, y2021, y2023, x_coord_right, y_coord_right"
   ]
  },
  {
   "cell_type": "markdown",
   "metadata": {},
   "source": [
    "## Setup\n",
    "First, let's install and import required libraries and mount Google Drive"
   ]
  },
  {
   "cell_type": "code",
   "execution_count": null,
   "metadata": {},
   "outputs": [],
   "source": [
    "# Install required packages\n",
    "!pip install geopandas pandas numpy"
   ]
  },
  {
   "cell_type": "code",
   "execution_count": null,
   "metadata": {},
   "outputs": [],
   "source": [
    "# Import required libraries\n",
    "import os\n",
    "import glob\n",
    "import pandas as pd\n",
    "import geopandas as gpd\n",
    "from google.colab import drive\n",
    "\n",
    "# Mount Google Drive\n",
    "drive.mount('/content/drive')"
   ]
  },
  {
   "cell_type": "markdown",
   "metadata": {},
   "source": [
    "## Define Processing Functions"
   ]
  },
  {
   "cell_type": "code",
   "execution_count": null,
   "metadata": {},
   "outputs": [],
   "source": [
    "def get_area_files(base_path, area_number):\n",
    "    \"\"\"Get all NDVI files for a specific area across years.\"\"\"\n",
    "    pattern = os.path.join(base_path, f'NDVI_JanMay_*_Area_{area_number}_polygons')\n",
    "    return glob.glob(pattern)\n",
    "\n",
    "def extract_year(filename):\n",
    "    \"\"\"Extract year from filename.\"\"\"\n",
    "    parts = filename.split('_')\n",
    "    return next(part for part in parts if part.isdigit())\n",
    "\n",
    "def process_area(base_path, area_number):\n",
    "    \"\"\"Process all files for a specific area and combine years.\"\"\"\n",
    "    files = get_area_files(base_path, area_number)\n",
    "    if not files:\n",
    "        print(f\"No files found for Area {area_number}\")\n",
    "        return None\n",
    "    \n",
    "    # Read first file to get base structure\n",
    "    base_gdf = gpd.read_file(files[0])\n",
    "    year = extract_year(files[0])\n",
    "    base_gdf = base_gdf.rename(columns={'y': f'y{year}'})\n",
    "    \n",
    "    # Process remaining files\n",
    "    for file in files[1:]:\n",
    "        year = extract_year(file)\n",
    "        temp_gdf = gpd.read_file(file)\n",
    "        temp_gdf = temp_gdf.rename(columns={'y': f'y{year}'})\n",
    "        \n",
    "        # Merge based on pixel_id\n",
    "        base_gdf = base_gdf.merge(\n",
    "            temp_gdf[['pixel_id', f'y{year}', 'geometry']],\n",
    "            on=['pixel_id', 'geometry'],\n",
    "            how='outer'\n",
    "        )\n",
    "    \n",
    "    return base_gdf"
   ]
  },
  {
   "cell_type": "markdown",
   "metadata": {},
   "source": [
    "## Process All Areas"
   ]
  },
  {
   "cell_type": "code",
   "execution_count": null,
   "metadata": {},
   "outputs": [],
   "source": [
    "# Set the base path\n",
    "base_path = '/content/drive/MyDrive/earthengine/conversion/vector'\n",
    "\n",
    "# Get unique area numbers from existing files\n",
    "all_files = glob.glob(os.path.join(base_path, 'NDVI_JanMay_*_Area_*_polygons'))\n",
    "area_numbers = set()\n",
    "for file in all_files:\n",
    "    parts = file.split('_')\n",
    "    area_idx = parts.index('Area')\n",
    "    if area_idx + 1 < len(parts):\n",
    "        area_numbers.add(parts[area_idx + 1])\n",
    "\n",
    "# Process each area\n",
    "for area_num in sorted(area_numbers):\n",
    "    print(f\"Processing Area {area_num}...\")\n",
    "    result_gdf = process_area(base_path, area_num)\n",
    "    \n",
    "    if result_gdf is not None:\n",
    "        # Save to geopackage\n",
    "        output_path = os.path.join(base_path, f'NDVI_Combined_Area_{area_num}.gpkg')\n",
    "        result_gdf.to_file(output_path, driver='GPKG')\n",
    "        print(f\"Saved combined data for Area {area_num} to {output_path}\")\n",
    "\n",
    "print(\"\\nProcessing complete!\")"
   ]
  },
  {
   "cell_type": "markdown",
   "metadata": {},
   "source": [
    "## Verification\n",
    "Let's verify the structure of one of the output files"
   ]
  },
  {
   "cell_type": "code",
   "execution_count": null,
   "metadata": {},
   "outputs": [],
   "source": [
    "# Read and display the structure of the first processed file\n",
    "sample_file = glob.glob(os.path.join(base_path, 'NDVI_Combined_Area_*.gpkg'))[0]\n",
    "sample_gdf = gpd.read_file(sample_file)\n",
    "print(\"\\nOutput file structure:\")\n",
    "print(sample_gdf.columns)\n",
    "print(\"\\nFirst few rows:\")\n",
    "sample_gdf.head()"
   ]
  }
 ],
 "metadata": {
  "kernelspec": {
   "display_name": "Python 3",
   "language": "python",
   "name": "python3"
  },
  "language_info": {
   "codemirror_mode": {
    "name": "ipython",
    "version": 3
   },
   "file_extension": ".py",
   "mimetype": "text/x-python",
   "name": "python",
   "nbconvert_exporter": "python",
   "pygments_lexer": "ipython3",
   "version": "3.8.0"
  },
  "colab": {
   "name": "combine_ndvi_vectors.ipynb",
   "provenance": []
  }
 },
 "nbformat": 4,
 "nbformat_minor": 4
}
